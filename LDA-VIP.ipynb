{
 "cells": [
  {
   "cell_type": "code",
   "execution_count": 1,
   "id": "3a0d7b7d",
   "metadata": {},
   "outputs": [
    {
     "name": "stderr",
     "output_type": "stream",
     "text": [
      "[nltk_data] Downloading package stopwords to\n",
      "[nltk_data]     /Users/srishtigarg/nltk_data...\n",
      "[nltk_data]   Package stopwords is already up-to-date!\n"
     ]
    },
    {
     "data": {
      "text/plain": [
       "True"
      ]
     },
     "execution_count": 1,
     "metadata": {},
     "output_type": "execute_result"
    }
   ],
   "source": [
    "# Run in python console\n",
    "import nltk; nltk.download('stopwords')\n"
   ]
  },
  {
   "cell_type": "code",
   "execution_count": 2,
   "id": "fe586f13",
   "metadata": {},
   "outputs": [],
   "source": [
    "import re\n",
    "import numpy as np\n",
    "import pandas as pd\n",
    "from pprint import pprint\n",
    "\n",
    "# Gensim\n",
    "import gensim\n",
    "import gensim.corpora as corpora\n",
    "from gensim.utils import simple_preprocess\n",
    "from gensim.models import CoherenceModel\n",
    "\n",
    "# spacy for lemmatization\n",
    "import spacy\n",
    "\n",
    "# Plotting tools\n",
    "import pyLDAvis\n",
    "import pyLDAvis.gensim_models  # don't skip this\n",
    "import matplotlib.pyplot as plt\n",
    "%matplotlib inline\n",
    "\n",
    "# Enable logging for gensim - optional\n",
    "import logging\n",
    "logging.basicConfig(format='%(asctime)s : %(levelname)s : %(message)s', level=logging.ERROR)\n",
    "\n",
    "import warnings\n",
    "warnings.filterwarnings(\"ignore\",category=DeprecationWarning)"
   ]
  },
  {
   "cell_type": "code",
   "execution_count": 3,
   "id": "4ba6224d",
   "metadata": {},
   "outputs": [],
   "source": [
    "# NLTK Stop words\n",
    "from nltk.corpus import stopwords\n",
    "stop_words = stopwords.words('english')\n",
    "stop_words.extend(['from', 'subject', 're', 'edu', 'use'])"
   ]
  },
  {
   "cell_type": "code",
   "execution_count": 4,
   "id": "39fcdb09",
   "metadata": {},
   "outputs": [
    {
     "name": "stdout",
     "output_type": "stream",
     "text": [
      "['rec.autos' 'comp.sys.mac.hardware' 'comp.graphics' 'sci.space'\n",
      " 'talk.politics.guns' 'sci.med' 'comp.sys.ibm.pc.hardware'\n",
      " 'comp.os.ms-windows.misc' 'rec.motorcycles' 'talk.religion.misc'\n",
      " 'misc.forsale' 'alt.atheism' 'sci.electronics' 'comp.windows.x'\n",
      " 'rec.sport.hockey' 'rec.sport.baseball' 'soc.religion.christian'\n",
      " 'talk.politics.mideast' 'talk.politics.misc' 'sci.crypt']\n"
     ]
    },
    {
     "data": {
      "text/html": [
       "<div>\n",
       "<style scoped>\n",
       "    .dataframe tbody tr th:only-of-type {\n",
       "        vertical-align: middle;\n",
       "    }\n",
       "\n",
       "    .dataframe tbody tr th {\n",
       "        vertical-align: top;\n",
       "    }\n",
       "\n",
       "    .dataframe thead th {\n",
       "        text-align: right;\n",
       "    }\n",
       "</style>\n",
       "<table border=\"1\" class=\"dataframe\">\n",
       "  <thead>\n",
       "    <tr style=\"text-align: right;\">\n",
       "      <th></th>\n",
       "      <th>content</th>\n",
       "      <th>target</th>\n",
       "      <th>target_names</th>\n",
       "    </tr>\n",
       "  </thead>\n",
       "  <tbody>\n",
       "    <tr>\n",
       "      <th>0</th>\n",
       "      <td>From: lerxst@wam.umd.edu (where's my thing)\\nS...</td>\n",
       "      <td>7</td>\n",
       "      <td>rec.autos</td>\n",
       "    </tr>\n",
       "    <tr>\n",
       "      <th>1</th>\n",
       "      <td>From: guykuo@carson.u.washington.edu (Guy Kuo)...</td>\n",
       "      <td>4</td>\n",
       "      <td>comp.sys.mac.hardware</td>\n",
       "    </tr>\n",
       "    <tr>\n",
       "      <th>2</th>\n",
       "      <td>From: twillis@ec.ecn.purdue.edu (Thomas E Will...</td>\n",
       "      <td>4</td>\n",
       "      <td>comp.sys.mac.hardware</td>\n",
       "    </tr>\n",
       "    <tr>\n",
       "      <th>3</th>\n",
       "      <td>From: jgreen@amber (Joe Green)\\nSubject: Re: W...</td>\n",
       "      <td>1</td>\n",
       "      <td>comp.graphics</td>\n",
       "    </tr>\n",
       "    <tr>\n",
       "      <th>4</th>\n",
       "      <td>From: jcm@head-cfa.harvard.edu (Jonathan McDow...</td>\n",
       "      <td>14</td>\n",
       "      <td>sci.space</td>\n",
       "    </tr>\n",
       "  </tbody>\n",
       "</table>\n",
       "</div>"
      ],
      "text/plain": [
       "                                             content  target  \\\n",
       "0  From: lerxst@wam.umd.edu (where's my thing)\\nS...       7   \n",
       "1  From: guykuo@carson.u.washington.edu (Guy Kuo)...       4   \n",
       "2  From: twillis@ec.ecn.purdue.edu (Thomas E Will...       4   \n",
       "3  From: jgreen@amber (Joe Green)\\nSubject: Re: W...       1   \n",
       "4  From: jcm@head-cfa.harvard.edu (Jonathan McDow...      14   \n",
       "\n",
       "            target_names  \n",
       "0              rec.autos  \n",
       "1  comp.sys.mac.hardware  \n",
       "2  comp.sys.mac.hardware  \n",
       "3          comp.graphics  \n",
       "4              sci.space  "
      ]
     },
     "execution_count": 4,
     "metadata": {},
     "output_type": "execute_result"
    }
   ],
   "source": [
    "# Import Dataset\n",
    "df = pd.read_json('https://raw.githubusercontent.com/selva86/datasets/master/newsgroups.json')\n",
    "print(df.target_names.unique())\n",
    "df.head()"
   ]
  },
  {
   "cell_type": "code",
   "execution_count": 5,
   "id": "d127914e",
   "metadata": {},
   "outputs": [
    {
     "name": "stdout",
     "output_type": "stream",
     "text": [
      "['From: (wheres my thing) Subject: WHAT car is this!? Nntp-Posting-Host: '\n",
      " 'rac3.wam.umd.edu Organization: University of Maryland, College Park Lines: '\n",
      " '15 I was wondering if anyone out there could enlighten me on this car I saw '\n",
      " 'the other day. It was a 2-door sports car, looked to be from the late 60s/ '\n",
      " 'early 70s. It was called a Bricklin. The doors were really small. In '\n",
      " 'addition, the front bumper was separate from the rest of the body. This is '\n",
      " 'all I know. If anyone can tellme a model name, engine specs, years of '\n",
      " 'production, where this car is made, history, or whatever info you have on '\n",
      " 'this funky looking car, please e-mail. Thanks, - IL ---- brought to you by '\n",
      " 'your neighborhood Lerxst ---- ']\n"
     ]
    }
   ],
   "source": [
    "# Convert to list\n",
    "data = df.content.values.tolist()\n",
    "\n",
    "# Remove Emails\n",
    "data = [re.sub('\\S*@\\S*\\s?', '', sent) for sent in data]\n",
    "\n",
    "# Remove new line characters\n",
    "data = [re.sub('\\s+', ' ', sent) for sent in data]\n",
    "\n",
    "# Remove distracting single quotes\n",
    "data = [re.sub(\"\\'\", \"\", sent) for sent in data]\n",
    "\n",
    "pprint(data[:1])\n"
   ]
  },
  {
   "cell_type": "code",
   "execution_count": 6,
   "id": "5e0f1796",
   "metadata": {},
   "outputs": [
    {
     "name": "stdout",
     "output_type": "stream",
     "text": [
      "[['from', 'wheres', 'my', 'thing', 'subject', 'what', 'car', 'is', 'this', 'nntp', 'posting', 'host', 'rac', 'wam', 'umd', 'edu', 'organization', 'university', 'of', 'maryland', 'college', 'park', 'lines', 'was', 'wondering', 'if', 'anyone', 'out', 'there', 'could', 'enlighten', 'me', 'on', 'this', 'car', 'saw', 'the', 'other', 'day', 'it', 'was', 'door', 'sports', 'car', 'looked', 'to', 'be', 'from', 'the', 'late', 'early', 'it', 'was', 'called', 'bricklin', 'the', 'doors', 'were', 'really', 'small', 'in', 'addition', 'the', 'front', 'bumper', 'was', 'separate', 'from', 'the', 'rest', 'of', 'the', 'body', 'this', 'is', 'all', 'know', 'if', 'anyone', 'can', 'tellme', 'model', 'name', 'engine', 'specs', 'years', 'of', 'production', 'where', 'this', 'car', 'is', 'made', 'history', 'or', 'whatever', 'info', 'you', 'have', 'on', 'this', 'funky', 'looking', 'car', 'please', 'mail', 'thanks', 'il', 'brought', 'to', 'you', 'by', 'your', 'neighborhood', 'lerxst']]\n"
     ]
    }
   ],
   "source": [
    "def sent_to_words(sentences):\n",
    "    for sentence in sentences:\n",
    "        yield(gensim.utils.simple_preprocess(str(sentence), deacc=True))  # deacc=True removes punctuations\n",
    "\n",
    "data_words = list(sent_to_words(data))\n",
    "\n",
    "print(data_words[:1])"
   ]
  },
  {
   "cell_type": "code",
   "execution_count": 7,
   "id": "d17241f5",
   "metadata": {},
   "outputs": [
    {
     "name": "stdout",
     "output_type": "stream",
     "text": [
      "['from', 'wheres', 'my', 'thing', 'subject', 'what', 'car', 'is', 'this', 'nntp_posting_host', 'rac_wam_umd_edu', 'organization', 'university', 'of', 'maryland_college_park', 'lines', 'was', 'wondering', 'if', 'anyone', 'out', 'there', 'could', 'enlighten', 'me', 'on', 'this', 'car', 'saw', 'the', 'other', 'day', 'it', 'was', 'door', 'sports', 'car', 'looked', 'to', 'be', 'from', 'the', 'late', 'early', 'it', 'was', 'called', 'bricklin', 'the', 'doors', 'were', 'really', 'small', 'in', 'addition', 'the', 'front_bumper', 'was', 'separate', 'from', 'the', 'rest', 'of', 'the', 'body', 'this', 'is', 'all', 'know', 'if', 'anyone', 'can', 'tellme', 'model', 'name', 'engine', 'specs', 'years', 'of', 'production', 'where', 'this', 'car', 'is', 'made', 'history', 'or', 'whatever', 'info', 'you', 'have', 'on', 'this', 'funky', 'looking', 'car', 'please', 'mail', 'thanks', 'il', 'brought', 'to', 'you', 'by', 'your', 'neighborhood', 'lerxst']\n"
     ]
    }
   ],
   "source": [
    "# Build the bigram and trigram models\n",
    "bigram = gensim.models.Phrases(data_words, min_count=5, threshold=100) # higher threshold fewer phrases.\n",
    "trigram = gensim.models.Phrases(bigram[data_words], threshold=100)  \n",
    "\n",
    "# Faster way to get a sentence clubbed as a trigram/bigram\n",
    "bigram_mod = gensim.models.phrases.Phraser(bigram)\n",
    "trigram_mod = gensim.models.phrases.Phraser(trigram)\n",
    "\n",
    "# See trigram example\n",
    "print(trigram_mod[bigram_mod[data_words[0]]])"
   ]
  },
  {
   "cell_type": "code",
   "execution_count": 8,
   "id": "4e559f0a",
   "metadata": {},
   "outputs": [],
   "source": [
    "# Define functions for stopwords, bigrams, trigrams and lemmatization\n",
    "def remove_stopwords(texts):\n",
    "    return [[word for word in simple_preprocess(str(doc)) if word not in stop_words] for doc in texts]\n",
    "\n",
    "def make_bigrams(texts):\n",
    "    return [bigram_mod[doc] for doc in texts]\n",
    "\n",
    "def make_trigrams(texts):\n",
    "    return [trigram_mod[bigram_mod[doc]] for doc in texts]\n",
    "\n",
    "def lemmatization(texts, allowed_postags=['NOUN', 'ADJ', 'VERB', 'ADV']):\n",
    "    \"\"\"https://spacy.io/api/annotation\"\"\"\n",
    "    texts_out = []\n",
    "    for sent in texts:\n",
    "        doc = nlp(\" \".join(sent)) \n",
    "        texts_out.append([token.lemma_ for token in doc if token.pos_ in allowed_postags])\n",
    "    return texts_out"
   ]
  },
  {
   "cell_type": "code",
   "execution_count": 9,
   "id": "662af6a1",
   "metadata": {},
   "outputs": [
    {
     "name": "stdout",
     "output_type": "stream",
     "text": [
      "[['thing', 'car', 'nntp_poste', 'host', 'rac_wam', 'park', 'line', 'wonder', 'enlighten', 'car', 'see', 'day', 'door', 'sport', 'car', 'look', 'late', 'early', 'call', 'door', 'really', 'small', 'addition', 'front_bumper', 'separate', 'rest', 'body', 'know', 'tellme', 'model', 'name', 'engine', 'spec', 'year', 'production', 'car', 'make', 'history', 'info', 'funky', 'look', 'car', 'mail', 'thank', 'bring', 'neighborhood', 'lerxst']]\n"
     ]
    }
   ],
   "source": [
    "# Remove Stop Words\n",
    "data_words_nostops = remove_stopwords(data_words)\n",
    "\n",
    "# Form Bigrams\n",
    "data_words_bigrams = make_bigrams(data_words_nostops)\n",
    "\n",
    "# Initialize spacy 'en' model, keeping only tagger component (for efficiency)\n",
    "# python3 -m spacy download en\n",
    "nlp = spacy.load('en_core_web_sm', disable=['parser', 'ner'])\n",
    "\n",
    "# Do lemmatization keeping only noun, adj, vb, adv\n",
    "data_lemmatized = lemmatization(data_words_bigrams, allowed_postags=['NOUN', 'ADJ', 'VERB', 'ADV'])\n",
    "\n",
    "print(data_lemmatized[:1])"
   ]
  },
  {
   "cell_type": "code",
   "execution_count": 10,
   "id": "e1255653",
   "metadata": {},
   "outputs": [
    {
     "name": "stdout",
     "output_type": "stream",
     "text": [
      "[[(0, 1), (1, 1), (2, 1), (3, 1), (4, 5), (5, 1), (6, 2), (7, 1), (8, 1), (9, 1), (10, 1), (11, 1), (12, 1), (13, 1), (14, 1), (15, 1), (16, 1), (17, 1), (18, 1), (19, 2), (20, 1), (21, 1), (22, 1), (23, 1), (24, 1), (25, 1), (26, 1), (27, 1), (28, 1), (29, 1), (30, 1), (31, 1), (32, 1), (33, 1), (34, 1), (35, 1), (36, 1), (37, 1), (38, 1), (39, 1), (40, 1)]]\n"
     ]
    }
   ],
   "source": [
    "# Create Dictionary\n",
    "id2word = corpora.Dictionary(data_lemmatized)\n",
    "\n",
    "# Create Corpus\n",
    "texts = data_lemmatized\n",
    "\n",
    "# Term Document Frequency\n",
    "corpus = [id2word.doc2bow(text) for text in texts]\n",
    "\n",
    "# View\n",
    "print(corpus[:1])"
   ]
  },
  {
   "cell_type": "code",
   "execution_count": 11,
   "id": "8f2d63be",
   "metadata": {},
   "outputs": [
    {
     "data": {
      "text/plain": [
       "'addition'"
      ]
     },
     "execution_count": 11,
     "metadata": {},
     "output_type": "execute_result"
    }
   ],
   "source": [
    "id2word[0]"
   ]
  },
  {
   "cell_type": "code",
   "execution_count": 12,
   "id": "72e810ff",
   "metadata": {},
   "outputs": [
    {
     "data": {
      "text/plain": [
       "[[('addition', 1),\n",
       "  ('body', 1),\n",
       "  ('bring', 1),\n",
       "  ('call', 1),\n",
       "  ('car', 5),\n",
       "  ('day', 1),\n",
       "  ('door', 2),\n",
       "  ('early', 1),\n",
       "  ('engine', 1),\n",
       "  ('enlighten', 1),\n",
       "  ('front_bumper', 1),\n",
       "  ('funky', 1),\n",
       "  ('history', 1),\n",
       "  ('host', 1),\n",
       "  ('info', 1),\n",
       "  ('know', 1),\n",
       "  ('late', 1),\n",
       "  ('lerxst', 1),\n",
       "  ('line', 1),\n",
       "  ('look', 2),\n",
       "  ('mail', 1),\n",
       "  ('make', 1),\n",
       "  ('model', 1),\n",
       "  ('name', 1),\n",
       "  ('neighborhood', 1),\n",
       "  ('nntp_poste', 1),\n",
       "  ('park', 1),\n",
       "  ('production', 1),\n",
       "  ('rac_wam', 1),\n",
       "  ('really', 1),\n",
       "  ('rest', 1),\n",
       "  ('see', 1),\n",
       "  ('separate', 1),\n",
       "  ('small', 1),\n",
       "  ('spec', 1),\n",
       "  ('sport', 1),\n",
       "  ('tellme', 1),\n",
       "  ('thank', 1),\n",
       "  ('thing', 1),\n",
       "  ('wonder', 1),\n",
       "  ('year', 1)]]"
      ]
     },
     "execution_count": 12,
     "metadata": {},
     "output_type": "execute_result"
    }
   ],
   "source": [
    "# Human readable format of corpus (term-frequency)\n",
    "[[(id2word[id], freq) for id, freq in cp] for cp in corpus[:1]]"
   ]
  },
  {
   "cell_type": "code",
   "execution_count": 13,
   "id": "f821334a",
   "metadata": {},
   "outputs": [],
   "source": [
    "# Build LDA model\n",
    "lda_model = gensim.models.ldamodel.LdaModel(corpus=corpus,\n",
    "                                           id2word=id2word,\n",
    "                                           num_topics=20, \n",
    "                                           random_state=100,\n",
    "                                           update_every=1,\n",
    "                                           chunksize=100,\n",
    "                                           passes=10,\n",
    "                                           alpha='auto',\n",
    "                                           per_word_topics=True)"
   ]
  },
  {
   "cell_type": "code",
   "execution_count": 14,
   "id": "73092b36",
   "metadata": {},
   "outputs": [
    {
     "name": "stdout",
     "output_type": "stream",
     "text": [
      "[(0,\n",
      "  '0.705*\"ax\" + 0.026*\"graphic\" + 0.013*\"peace\" + 0.013*\"bomb\" + '\n",
      "  '0.012*\"convert\" + 0.009*\"homosexual\" + 0.007*\"violence\" + 0.006*\"capture\" + '\n",
      "  '0.006*\"birth\" + 0.005*\"gif\"'),\n",
      " (1,\n",
      "  '0.028*\"people\" + 0.019*\"say\" + 0.013*\"believe\" + 0.013*\"reason\" + '\n",
      "  '0.012*\"point\" + 0.011*\"evidence\" + 0.011*\"mean\" + 0.011*\"many\" + '\n",
      "  '0.011*\"make\" + 0.010*\"state\"'),\n",
      " (2,\n",
      "  '0.057*\"trust\" + 0.049*\"stupid\" + 0.043*\"session\" + 0.032*\"registration\" + '\n",
      "  '0.028*\"conference\" + 0.026*\"implementation\" + 0.021*\"speaker\" + '\n",
      "  '0.021*\"beautiful\" + 0.018*\"fish\" + 0.018*\"custom\"'),\n",
      " (3,\n",
      "  '0.092*\"mail\" + 0.055*\"price\" + 0.049*\"sale\" + 0.040*\"cpu\" + 0.036*\"pin\" + '\n",
      "  '0.033*\"disk\" + 0.030*\"offer\" + 0.029*\"tape\" + 0.022*\"board\" + 0.021*\"bus\"'),\n",
      " (4,\n",
      "  '0.208*\"window\" + 0.068*\"server\" + 0.062*\"package\" + 0.044*\"motif\" + '\n",
      "  '0.033*\"mit\" + 0.028*\"crash\" + 0.022*\"application\" + 0.014*\"event\" + '\n",
      "  '0.013*\"programmer\" + 0.013*\"honor\"'),\n",
      " (5,\n",
      "  '0.058*\"system\" + 0.046*\"use\" + 0.027*\"bit\" + 0.025*\"computer\" + '\n",
      "  '0.023*\"problem\" + 0.017*\"machine\" + 0.016*\"software\" + 0.016*\"run\" + '\n",
      "  '0.015*\"datum\" + 0.015*\"chip\"'),\n",
      " (6,\n",
      "  '0.032*\"get\" + 0.025*\"know\" + 0.025*\"go\" + 0.022*\"good\" + 0.019*\"think\" + '\n",
      "  '0.018*\"m\" + 0.017*\"time\" + 0.016*\"make\" + 0.016*\"well\" + 0.015*\"see\"'),\n",
      " (7,\n",
      "  '0.079*\"car\" + 0.031*\"bike\" + 0.026*\"wire\" + 0.022*\"engine\" + 0.020*\"ride\" + '\n",
      "  '0.019*\"internal\" + 0.018*\"light\" + 0.017*\"direct\" + 0.017*\"road\" + '\n",
      "  '0.016*\"ground\"'),\n",
      " (8,\n",
      "  '0.076*\"monitor\" + 0.062*\"controller\" + 0.046*\"trial\" + 0.041*\"cop\" + '\n",
      "  '0.041*\"signal\" + 0.039*\"step\" + 0.031*\"circuit\" + 0.026*\"dream\" + '\n",
      "  '0.026*\"ethnic\" + 0.023*\"insert\"'),\n",
      " (9,\n",
      "  '0.064*\"science\" + 0.052*\"patient\" + 0.048*\"study\" + 0.025*\"health\" + '\n",
      "  '0.025*\"disease\" + 0.024*\"scientific\" + 0.022*\"treatment\" + 0.019*\"risk\" + '\n",
      "  '0.019*\"insist\" + 0.018*\"waste\"'),\n",
      " (10,\n",
      "  '0.083*\"team\" + 0.079*\"game\" + 0.055*\"play\" + 0.050*\"win\" + 0.042*\"year\" + '\n",
      "  '0.025*\"fan\" + 0.023*\"run\" + 0.020*\"score\" + 0.019*\"notice\" + '\n",
      "  '0.017*\"division\"'),\n",
      " (11,\n",
      "  '0.180*\"line\" + 0.132*\"write\" + 0.116*\"organization\" + 0.099*\"article\" + '\n",
      "  '0.076*\"nntp_poste\" + 0.069*\"host\" + 0.037*\"reply\" + 0.032*\"thank\" + '\n",
      "  '0.024*\"university\" + 0.016*\"com\"'),\n",
      " (12,\n",
      "  '0.022*\"power\" + 0.019*\"high\" + 0.017*\"large\" + 0.014*\"small\" + '\n",
      "  '0.014*\"number\" + 0.014*\"player\" + 0.013*\"area\" + 0.013*\"low\" + '\n",
      "  '0.010*\"local\" + 0.010*\"increase\"'),\n",
      " (13,\n",
      "  '0.093*\"space\" + 0.028*\"community\" + 0.028*\"earth\" + 0.025*\"launch\" + '\n",
      "  '0.022*\"mission\" + 0.021*\"orbit\" + 0.021*\"moon\" + 0.018*\"satellite\" + '\n",
      "  '0.018*\"announcement\" + 0.016*\"plane\"'),\n",
      " (14,\n",
      "  '0.144*\"color\" + 0.052*\"distribution_usa\" + 0.043*\"past\" + 0.025*\"stream\" + '\n",
      "  '0.020*\"usa\" + 0.016*\"unique\" + 0.015*\"ins_cwru\" + 0.014*\"turbo\" + '\n",
      "  '0.014*\"jim_frost\" + 0.014*\"porsche\"'),\n",
      " (15,\n",
      "  '0.142*\"key\" + 0.038*\"security\" + 0.037*\"public\" + 0.031*\"clipper\" + '\n",
      "  '0.031*\"master\" + 0.024*\"secure\" + 0.022*\"secret\" + 0.022*\"air\" + '\n",
      "  '0.021*\"government\" + 0.020*\"chip\"'),\n",
      " (16,\n",
      "  '0.192*\"drive\" + 0.095*\"card\" + 0.076*\"driver\" + 0.060*\"test\" + '\n",
      "  '0.031*\"replace\" + 0.028*\"family\" + 0.025*\"period\" + 0.022*\"bill\" + '\n",
      "  '0.022*\"printer\" + 0.018*\"warranty\"'),\n",
      " (17,\n",
      "  '0.018*\"program\" + 0.017*\"file\" + 0.016*\"include\" + 0.015*\"information\" + '\n",
      "  '0.015*\"do\" + 0.014*\"send\" + 0.014*\"also\" + 0.012*\"set\" + 0.012*\"message\" + '\n",
      "  '0.012*\"source\"'),\n",
      " (18,\n",
      "  '0.052*\"physical\" + 0.033*\"israeli\" + 0.030*\"soldier\" + 0.029*\"war\" + '\n",
      "  '0.026*\"village\" + 0.025*\"attack\" + 0.024*\"armenian\" + 0.022*\"kill\" + '\n",
      "  '0.018*\"turkish\" + 0.016*\"withdraw\"'),\n",
      " (19,\n",
      "  '0.052*\"man\" + 0.039*\"gun\" + 0.036*\"child\" + 0.027*\"death\" + 0.026*\"accept\" '\n",
      "  '+ 0.025*\"speak\" + 0.023*\"belief\" + 0.023*\"truth\" + 0.023*\"god\" + '\n",
      "  '0.022*\"kill\"')]\n"
     ]
    }
   ],
   "source": [
    "# Print the Keyword in the 10 topics\n",
    "pprint(lda_model.print_topics())\n",
    "doc_lda = lda_model[corpus]"
   ]
  },
  {
   "cell_type": "code",
   "execution_count": 15,
   "id": "4648dba4",
   "metadata": {},
   "outputs": [
    {
     "name": "stdout",
     "output_type": "stream",
     "text": [
      "\n",
      "Perplexity:  -13.488096948217407\n",
      "\n",
      "Coherence Score:  0.4915515915416987\n"
     ]
    }
   ],
   "source": [
    "# Compute Perplexity\n",
    "print('\\nPerplexity: ', lda_model.log_perplexity(corpus))  # a measure of how good the model is. lower the better.\n",
    "\n",
    "# Compute Coherence Score\n",
    "coherence_model_lda = CoherenceModel(model=lda_model, texts=data_lemmatized, dictionary=id2word, coherence='c_v')\n",
    "coherence_lda = coherence_model_lda.get_coherence()\n",
    "print('\\nCoherence Score: ', coherence_lda)"
   ]
  },
  {
   "cell_type": "code",
   "execution_count": 17,
   "id": "0fea4fba",
   "metadata": {},
   "outputs": [
    {
     "name": "stderr",
     "output_type": "stream",
     "text": [
      "/Users/srishtigarg/opt/anaconda3/lib/python3.9/site-packages/pyLDAvis/_prepare.py:246: FutureWarning: In a future version of pandas all arguments of DataFrame.drop except for the argument 'labels' will be keyword-only\n",
      "  default_term_info = default_term_info.sort_values(\n",
      "/Users/srishtigarg/opt/anaconda3/lib/python3.9/site-packages/past/builtins/misc.py:45: DeprecationWarning: the imp module is deprecated in favour of importlib; see the module's documentation for alternative uses\n",
      "  from imp import reload\n",
      "/Users/srishtigarg/opt/anaconda3/lib/python3.9/site-packages/past/builtins/misc.py:45: DeprecationWarning: the imp module is deprecated in favour of importlib; see the module's documentation for alternative uses\n",
      "  from imp import reload\n",
      "/Users/srishtigarg/opt/anaconda3/lib/python3.9/site-packages/past/builtins/misc.py:45: DeprecationWarning: the imp module is deprecated in favour of importlib; see the module's documentation for alternative uses\n",
      "  from imp import reload\n",
      "/Users/srishtigarg/opt/anaconda3/lib/python3.9/site-packages/past/builtins/misc.py:45: DeprecationWarning: the imp module is deprecated in favour of importlib; see the module's documentation for alternative uses\n",
      "  from imp import reload\n",
      "/Users/srishtigarg/opt/anaconda3/lib/python3.9/site-packages/past/builtins/misc.py:45: DeprecationWarning: the imp module is deprecated in favour of importlib; see the module's documentation for alternative uses\n",
      "  from imp import reload\n",
      "/Users/srishtigarg/opt/anaconda3/lib/python3.9/site-packages/past/builtins/misc.py:45: DeprecationWarning: the imp module is deprecated in favour of importlib; see the module's documentation for alternative uses\n",
      "  from imp import reload\n",
      "/Users/srishtigarg/opt/anaconda3/lib/python3.9/site-packages/past/builtins/misc.py:45: DeprecationWarning: the imp module is deprecated in favour of importlib; see the module's documentation for alternative uses\n",
      "  from imp import reload\n",
      "/Users/srishtigarg/opt/anaconda3/lib/python3.9/site-packages/past/builtins/misc.py:45: DeprecationWarning: the imp module is deprecated in favour of importlib; see the module's documentation for alternative uses\n",
      "  from imp import reload\n"
     ]
    },
    {
     "data": {
      "text/html": [
       "\n",
       "<link rel=\"stylesheet\" type=\"text/css\" href=\"https://cdn.jsdelivr.net/gh/bmabey/pyLDAvis@3.3.1/pyLDAvis/js/ldavis.v1.0.0.css\">\n",
       "\n",
       "\n",
       "<div id=\"ldavis_el531261405245740555525184178298\"></div>\n",
       "<script type=\"text/javascript\">\n",
       "\n",
       "var ldavis_el531261405245740555525184178298_data = {\"mdsDat\": {\"x\": [-0.32661952684751566, -0.3332208692107559, -0.2857699584412588, -0.13412588404417586, -0.16376110007432154, -0.08942751579298021, 0.061979516364721356, 0.015074102586194935, 0.007003113087921591, 0.05725447755907822, 0.06514231867545947, 0.038375998246826706, 0.06793999693260398, 0.06793471267116068, 0.09834303993188374, 0.11684929617892578, 0.1613999633841105, 0.1788989270200774, 0.19670359335005777, 0.2000257984219862], \"y\": [-0.13412878976645085, -0.12518455975822354, -0.06042697307606393, 0.07847210264280123, 0.054250736744669036, 0.38579143632453505, 0.06341752519180495, 0.11811701200107037, -0.03534403787643539, -0.007332505909895162, -0.025799860013381123, -0.020889497181275744, -0.00024834479258989997, -0.009731094252187104, 0.002408379668437229, -0.026354980774931456, -0.04827223648224793, -0.06561815414056005, -0.07120888183822695, -0.0719172767108496], \"topics\": [1, 2, 3, 4, 5, 6, 7, 8, 9, 10, 11, 12, 13, 14, 15, 16, 17, 18, 19, 20], \"cluster\": [1, 1, 1, 1, 1, 1, 1, 1, 1, 1, 1, 1, 1, 1, 1, 1, 1, 1, 1, 1], \"Freq\": [24.194722263926753, 21.30731600075972, 12.398089008437463, 6.884648647309488, 6.567961734365381, 6.538353451466991, 4.526610888782474, 3.1387013159033197, 2.09477736145446, 2.0416734137604577, 1.733330921358282, 1.5571269250347863, 1.3857606234290805, 1.3798516152354874, 1.2217161745882525, 1.1872894835652608, 0.7289032375023037, 0.4906226307607114, 0.3347787088107225, 0.2877655935486259]}, \"tinfo\": {\"Term\": [\"ax\", \"line\", \"write\", \"organization\", \"article\", \"nntp_poste\", \"host\", \"system\", \"drive\", \"get\", \"people\", \"use\", \"year\", \"key\", \"go\", \"window\", \"good\", \"know\", \"team\", \"mail\", \"game\", \"reply\", \"car\", \"m\", \"thank\", \"say\", \"problem\", \"space\", \"man\", \"run\", \"go\", \"m\", \"s\", \"ve\", \"back\", \"re\", \"bad\", \"hear\", \"d\", \"maybe\", \"money\", \"pay\", \"ill\", \"remember\", \"guess\", \"pretty\", \"friend\", \"couple\", \"wonder\", \"month\", \"season\", \"guy\", \"soon\", \"nice\", \"job\", \"trade\", \"sign\", \"wing\", \"anyway\", \"worth\", \"good\", \"really\", \"get\", \"hard\", \"big\", \"put\", \"want\", \"week\", \"much\", \"know\", \"start\", \"little\", \"well\", \"still\", \"probably\", \"happen\", \"time\", \"look\", \"think\", \"see\", \"come\", \"take\", \"let\", \"try\", \"tell\", \"make\", \"thing\", \"year\", \"sure\", \"work\", \"say\", \"day\", \"way\", \"need\", \"even\", \"believe\", \"reason\", \"evidence\", \"state\", \"fact\", \"claim\", \"law\", \"sense\", \"talk\", \"true\", \"person\", \"faith\", \"agree\", \"christian\", \"rule\", \"religion\", \"argument\", \"matter\", \"explain\", \"understand\", \"prove\", \"die\", \"discussion\", \"mind\", \"situation\", \"country\", \"clear\", \"act\", \"church\", \"certainly\", \"people\", \"mean\", \"world\", \"life\", \"word\", \"point\", \"exist\", \"many\", \"case\", \"cause\", \"say\", \"question\", \"issue\", \"right\", \"however\", \"make\", \"group\", \"even\", \"think\", \"way\", \"give\", \"program\", \"file\", \"send\", \"message\", \"list\", \"address\", \"info\", \"code\", \"copy\", \"image\", \"entry\", \"internet\", \"advance\", \"contain\", \"network\", \"error\", \"display\", \"section\", \"faq\", \"function\", \"input\", \"distribution\", \"request\", \"option\", \"available\", \"sun\", \"originator\", \"format\", \"date\", \"object\", \"information\", \"source\", \"include\", \"email\", \"do\", \"set\", \"page\", \"version\", \"reference\", \"service\", \"user\", \"number\", \"post\", \"also\", \"receive\", \"help\", \"new\", \"follow\", \"use\", \"book\", \"need\", \"find\", \"work\", \"read\", \"large\", \"small\", \"player\", \"local\", \"black\", \"field\", \"size\", \"goal\", \"white\", \"publish\", \"office\", \"character\", \"brain\", \"picture\", \"box\", \"dept\", \"society\", \"amount\", \"various\", \"normal\", \"unit\", \"reduce\", \"paper\", \"visit\", \"convince\", \"mount\", \"proof\", \"addition\", \"straight\", \"table\", \"power\", \"forget\", \"increase\", \"cover\", \"area\", \"compare\", \"low\", \"high\", \"department\", \"head\", \"lead\", \"number\", \"less\", \"difference\", \"lot\", \"control\", \"single\", \"system\", \"bit\", \"machine\", \"fast\", \"memory\", \"screen\", \"solution\", \"hardware\", \"encryption\", \"mode\", \"slow\", \"video\", \"device\", \"instal\", \"product\", \"scsi\", \"computer\", \"review\", \"miss\", \"ide\", \"choice\", \"digital\", \"headache\", \"port\", \"limit\", \"feature\", \"atheism\", \"transfer\", \"tool\", \"weight\", \"design\", \"datum\", \"software\", \"standard\", \"use\", \"speed\", \"chip\", \"problem\", \"run\", \"rate\", \"support\", \"need\", \"nntp_poste\", \"host\", \"appreciate\", \"firearm\", \"computer_science\", \"blind\", \"definitely\", \"consult\", \"cs_dept\", \"university\", \"chief\", \"finland\", \"tail\", \"ave\", \"powerbook\", \"amanda_walker\", \"digital_equipment\", \"organization\", \"atf\", \"reply\", \"convincing\", \"distribution_world\", \"com\", \"cubic\", \"mario\", \"article\", \"louisiana_tech\", \"line\", \"keyword\", \"thank\", \"write\", \"phone\", \"corporation\", \"joke\", \"boy\", \"fax\", \"student\", \"company\", \"net\", \"news\", \"center\", \"research\", \"lab\", \"technology\", \"lot\", \"cheap\", \"opinion\", \"sorry\", \"school\", \"ax\", \"graphic\", \"peace\", \"bomb\", \"convert\", \"homosexual\", \"violence\", \"capture\", \"birth\", \"gif\", \"enable\", \"teaching\", \"translate\", \"resurrection\", \"mystery\", \"intention\", \"roman\", \"met\", \"criticism\", \"row\", \"shareware\", \"rebel\", \"enemy\", \"reproduce\", \"hatred\", \"throat\", \"silver\", \"suspension\", \"desert\", \"joy\", \"gun\", \"accept\", \"speak\", \"belief\", \"truth\", \"god\", \"human\", \"atheist\", \"fire\", \"reality\", \"weapon\", \"police\", \"nature\", \"moral\", \"respect\", \"criminal\", \"universe\", \"mother\", \"animal\", \"arm\", \"false\", \"parent\", \"disagree\", \"blank\", \"benefit\", \"dangerous\", \"topic\", \"militia\", \"specifically\", \"morality\", \"crime\", \"man\", \"child\", \"death\", \"bear\", \"woman\", \"lie\", \"kill\", \"self\", \"safety\", \"carry\", \"young\", \"team\", \"game\", \"play\", \"win\", \"fan\", \"score\", \"notice\", \"average\", \"door\", \"sc\", \"sport\", \"father\", \"german\", \"pitch\", \"yesterday\", \"rock\", \"stat\", \"production\", \"san_jose\", \"offense\", \"park\", \"soul\", \"hr\", \"brave\", \"staff\", \"north\", \"hitler\", \"hitter\", \"era\", \"luxury\", \"division\", \"star\", \"final\", \"year\", \"hit\", \"run\", \"lose\", \"pick\", \"first\", \"point\", \"last\", \"total\", \"car\", \"bike\", \"wire\", \"engine\", \"ride\", \"internal\", \"direct\", \"route\", \"external\", \"mile\", \"cable\", \"pack\", \"rider\", \"screw\", \"dog\", \"cycle\", \"nhl\", \"wave\", \"oil\", \"cool\", \"co\", \"predict\", \"gas\", \"connector\", \"probe\", \"cambridge\", \"widget\", \"heat\", \"cylinder\", \"noise\", \"dealer\", \"concept\", \"road\", \"ground\", \"expensive\", \"vehicle\", \"light\", \"model\", \"buy\", \"mail\", \"price\", \"sale\", \"cpu\", \"pin\", \"disk\", \"tape\", \"board\", \"recommend\", \"upgrade\", \"gateway\", \"baseball\", \"processor\", \"motherboard\", \"version_pl\", \"usenet\", \"quick\", \"clock\", \"band\", \"super\", \"floppy\", \"ns\", \"trace\", \"pub\", \"amp\", \"up\", \"please_respond\", \"giant\", \"bounce\", \"forsale\", \"purchase\", \"bus\", \"offer\", \"interested\", \"manual\", \"sound\", \"old\", \"physical\", \"israeli\", \"soldier\", \"village\", \"armenian\", \"turkish\", \"withdraw\", \"occupy\", \"turk\", \"arab\", \"civilian\", \"girl\", \"decent\", \"inhabitant\", \"origin\", \"daughter\", \"invasion\", \"escape\", \"troop\", \"proceed\", \"human_being\", \"informed\", \"army\", \"genocide\", \"moslem\", \"slaughter\", \"holocaust\", \"massacre\", \"occupation\", \"soviet\", \"war\", \"attack\", \"terrorism\", \"kill\", \"jewish\", \"murder\", \"force\", \"military\", \"land\", \"government\", \"key\", \"security\", \"clipper\", \"master\", \"secure\", \"secret\", \"air\", \"communication\", \"proposal\", \"dual\", \"channel\", \"nuclear\", \"export\", \"crypto\", \"panel\", \"register\", \"compression\", \"advanced\", \"hence\", \"assure\", \"algorithm\", \"thermal\", \"volt\", \"instrument\", \"jet_propulsion\", \"garage\", \"okay\", \"flag\", \"access_digex\", \"online_communication\", \"usa\", \"public\", \"private\", \"block\", \"technology\", \"chip\", \"government\", \"industry\", \"protect\", \"phone\", \"provide\", \"space\", \"community\", \"launch\", \"mission\", \"orbit\", \"moon\", \"satellite\", \"announcement\", \"plane\", \"flight\", \"planet\", \"rocket\", \"map\", \"zone\", \"percent\", \"shuttle\", \"mar\", \"sky\", \"astronomy\", \"lunar\", \"spacecraft\", \"camp\", \"french\", \"solar\", \"radius\", \"ozone\", \"pat\", \"vol\", \"distant\", \"planetary\", \"earth\", \"international\", \"fuel\", \"project\", \"year\", \"datum\", \"research\", \"science\", \"patient\", \"study\", \"health\", \"disease\", \"scientific\", \"treatment\", \"insist\", \"waste\", \"medical\", \"mass\", \"rise\", \"element\", \"electrical\", \"consequence\", \"medicine\", \"aged\", \"radiation\", \"experiment\", \"physician\", \"probability\", \"environmental\", \"automatically\", \"hire\", \"pt\", \"qualified\", \"recover\", \"conservative\", \"bias\", \"severe\", \"objective\", \"risk\", \"analysis\", \"conduct\", \"effect\", \"research\", \"report\", \"factor\", \"result\", \"drive\", \"card\", \"driver\", \"test\", \"replace\", \"family\", \"period\", \"bill\", \"printer\", \"warranty\", \"procedure\", \"saturn\", \"auto\", \"specify\", \"ring\", \"serial\", \"acquire\", \"icon\", \"gear\", \"customer\", \"ftp_site\", \"finger\", \"stereo\", \"replacement\", \"backup\", \"positively\", \"km\", \"ratio\", \"testing\", \"timing\", \"minor\", \"automatic\", \"window\", \"server\", \"package\", \"motif\", \"mit\", \"crash\", \"programmer\", \"honor\", \"extension\", \"correction\", \"stable\", \"au\", \"fi\", \"quit\", \"diagnostic\", \"opinions_expressed\", \"sharp\", \"tar\", \"macintosh\", \"reboot\", \"oracle\", \"oracle_corporation\", \"turning\", \"verification\", \"automate\", \"ie\", \"parity\", \"eric_bosco\", \"button\", \"focus\", \"application\", \"event\", \"default\", \"com\", \"user\", \"monitor\", \"controller\", \"trial\", \"cop\", \"step\", \"circuit\", \"dream\", \"ethnic\", \"insert\", \"factory\", \"receiver\", \"constitution\", \"tip\", \"voltage\", \"sensor\", \"revolver\", \"political_atheist\", \"handy\", \"colt\", \"amplifier\", \"radar\", \"partly\", \"refresh\", \"reload\", \"black_hole\", \"mathew\", \"cosmic\", \"signal\", \"chamber\", \"dram\", \"switch\", \"pull\", \"trust\", \"stupid\", \"session\", \"registration\", \"implementation\", \"speaker\", \"beautiful\", \"fish\", \"custom\", \"summarize\", \"organisation\", \"login\", \"kinda\", \"mozumder\", \"delaware\", \"comprise\", \"atom\", \"affiliate\", \"explode\", \"extended\", \"abstract\", \"bogus\", \"recognition\", \"enclose\", \"loaded\", \"australian\", \"contemporary\", \"interactive\", \"inability\", \"robotic\", \"conference\", \"color\", \"distribution_usa\", \"past\", \"stream\", \"unique\", \"ins_cwru\", \"turbo\", \"jim_frost\", \"porsche\", \"generic\", \"television\", \"observer\", \"host_slc\", \"ms_do\", \"brick\", \"western_digital\", \"pov\", \"soviet_union\", \"infinity\", \"viola\", \"signing\", \"floppy_burn\", \"rayshade\", \"bearing\", \"tga\", \"volvos\", \"usa\", \"vram\", \"vram_simms\", \"protocol\", \"encrypt\"], \"Freq\": [41584.0, 16918.0, 13232.0, 10186.0, 9135.0, 6437.0, 5901.0, 5003.0, 2964.0, 10605.0, 7855.0, 6311.0, 4874.0, 2571.0, 7735.0, 1974.0, 6897.0, 8906.0, 2269.0, 2074.0, 2146.0, 3275.0, 2108.0, 5681.0, 3106.0, 9023.0, 4188.0, 1673.0, 2182.0, 3259.0, 7734.659105106717, 5680.489664036039, 4032.639601488119, 2957.4548407825323, 2825.20410037499, 2284.471211966642, 2228.437836212338, 2110.152608627758, 2048.7949618538764, 1496.5685068940427, 1413.3115712903605, 1332.4950183253975, 1296.3711012688361, 1326.6589760323689, 993.3666129290579, 933.2831092654118, 929.6245172098546, 919.1932504101452, 854.0144955739048, 801.8906794574771, 791.0869617912314, 777.4736403868029, 766.5289140263089, 736.9245754214645, 666.9840428629005, 616.2566605826937, 606.321016221071, 580.3573224433903, 568.8064642282604, 557.8485985880837, 6816.219051058718, 3113.960251061541, 10064.812729781992, 1240.75407185174, 1511.077795045996, 1943.969494930171, 4563.84614510753, 1253.392884445736, 3563.9240592699684, 7872.288288536104, 2084.585185248776, 1969.7358425993214, 5055.931401019189, 2550.246395469179, 1897.7330303609517, 1795.5614043179617, 5478.739034063985, 3594.470902629705, 5862.951537818713, 4818.135396053481, 3871.705006091492, 3810.350589084683, 2014.7078533595236, 3321.2182211231657, 2733.304014469198, 5191.316777178517, 3344.748542324751, 3333.2291376366825, 2339.294893144573, 3119.045959740511, 3805.319199215575, 2326.4235373213323, 2653.6626562959664, 2503.6614096712815, 2354.038192601713, 3598.3415626018555, 3556.6336650546777, 3143.860998523136, 2901.2762263741456, 2310.1545196229176, 2189.820412696525, 1888.824440984822, 1847.3835221803365, 1756.3965202333034, 1713.9506494835664, 1677.298669956587, 1500.1145103527142, 1359.2838053766072, 1191.0606935377311, 1171.8377069138076, 1132.9734885169973, 1097.0812024970678, 1085.2931536726514, 1065.8068730005477, 1062.0329700953773, 1025.6615445013965, 1015.2815661305675, 979.9790898075679, 943.8441957437345, 943.221934877596, 927.0095376010445, 926.501243689716, 833.6922572722783, 827.1634311038391, 795.3115095816648, 7710.635175851833, 3051.4584274459658, 1613.0023021772472, 1605.9508311820127, 1328.896970107307, 3341.7037534477126, 1695.665256003469, 3014.4628016729453, 2352.8434509229023, 1370.0771159703836, 5216.710331438499, 2597.3633987719472, 1677.6641657946452, 2552.0807011107595, 1604.6817448196575, 2923.481100514508, 1655.4096452440194, 1781.5216117398556, 1928.8137194392134, 1705.3603983452235, 1650.421086025246, 2909.9313869328225, 2771.0459618229283, 2339.0647302484667, 1992.1549403163544, 1814.5176394665764, 1515.1774128497636, 1364.5223322732882, 1330.5895967757099, 1323.4555239149804, 1285.3533218424795, 1197.1023459768855, 1108.5005042029227, 1022.4626015132285, 932.0863441773663, 907.6410559426412, 888.5392508707474, 886.200546033832, 848.2436854997035, 789.8745387350647, 786.1357555489524, 759.2973722432316, 757.7895666254275, 671.2403355525465, 657.1206157395808, 1701.8559804944412, 646.942269569682, 645.7571191579231, 644.0048207866457, 610.4924623679623, 585.4163076007368, 2428.6709482536976, 1954.3855493027352, 2514.870517074842, 1416.9488005577375, 2394.560673402828, 2015.9063957309922, 772.8950812203973, 1123.6158737365708, 1013.785967449432, 1094.4566147578032, 965.2774767322558, 1840.3478098855132, 1675.2909777013733, 2229.1150601263957, 1081.7214009863517, 1518.743396080575, 1728.4011229530731, 1378.7445885856337, 1876.3242038879694, 1245.9173929926474, 1626.432899961, 1494.563589361852, 1375.618692311074, 1250.0880632242026, 1541.6782375397202, 1300.3418238226388, 1221.2445221349367, 932.4440962233614, 805.4829182989847, 748.5995429662765, 716.2071300532494, 707.4715294142428, 688.9057567161271, 675.2906200162137, 662.8469195334785, 655.1456517073003, 628.7174039808777, 627.0552027441071, 626.3540203425188, 614.6974320915814, 613.7767672748639, 592.1139280954286, 578.0655914250374, 557.0754863174029, 552.6843759126994, 540.8679590130591, 534.3441011355711, 493.2805036254348, 477.9669055562169, 470.7828876851453, 466.6445120751756, 429.6168177036896, 397.073432303362, 379.6142620370648, 1929.4001482431568, 574.9715326966467, 904.93878052791, 870.7214135251728, 1156.4472475537038, 809.6773133072581, 1145.9123422735765, 1674.4320969593985, 650.1450953653449, 754.989514064075, 848.8434364626169, 1283.643615047395, 843.1424914316517, 692.4932122479231, 849.1402849669771, 718.899486668225, 647.3487206282392, 5002.406200189577, 2332.9922167126383, 1448.4284602739494, 1081.6770629955577, 1049.1262782914584, 922.0479153341456, 910.6513785863808, 883.0868925499793, 870.8535273728572, 831.2170798710632, 811.468996992424, 809.1406388556126, 804.3960073750575, 711.3931163325472, 706.8086929806718, 625.2518756769583, 2117.572222202027, 601.7867250963404, 560.2014373705252, 539.5300854080248, 517.4666363950491, 505.8471632612558, 498.209141094531, 490.93621013846155, 479.7536429038512, 468.97892890031244, 435.4742283335076, 431.4966829377353, 430.8538577846001, 423.72678796061217, 914.9129148092604, 1256.8121257581367, 1400.356457005645, 1013.4507974338122, 3930.607124057404, 840.6324557996926, 1252.761330974177, 1982.454280584314, 1372.9785616305567, 708.1569121332175, 778.3424194915178, 854.3794291179229, 6435.769149894044, 5900.615042984079, 688.2503473398111, 496.2543026342366, 348.90653752568903, 273.0271076234073, 199.40283629642263, 178.2464547303294, 143.3509370541574, 2076.6057647913335, 130.11926964544767, 97.32320349594983, 74.32712018956283, 71.29658038360178, 50.10786523075072, 46.735784557673625, 46.66692195250202, 9902.984637740277, 40.06076600804867, 3174.9808014566383, 32.62854147246329, 1209.0880148418985, 1384.4832423168784, 21.1719086305317, 20.236197193843704, 8413.042803623954, 14.12174484764538, 15341.213044765407, 951.4446327011643, 2713.549494048766, 11245.330432409488, 836.6401664235494, 481.6277781783847, 161.38355691799003, 291.54274763297764, 544.4565790029659, 258.9526742023058, 674.2814443981891, 701.1072129356403, 608.692466111644, 602.5139739230228, 602.4525202716268, 342.96199768198903, 619.2387299573369, 740.0564499096512, 417.5612159142247, 464.65629505689674, 309.79880646689605, 309.35343610500274, 41582.85355601389, 1529.6175147759016, 776.9814618295608, 745.289132317807, 724.8641612218313, 510.3266519659875, 414.2514536553238, 368.8383334798265, 343.86169280346076, 279.52782398362024, 271.7651451246084, 267.1111633681907, 212.28640791920935, 202.55161723443575, 184.16480081717708, 162.77872699272885, 157.67540938564684, 156.56245890813568, 149.5385975586455, 148.75972036892617, 143.346884396299, 142.86896980223688, 142.4069444951095, 139.12216058432384, 137.61888572197265, 125.94517630263985, 122.43851916824302, 116.96755065318295, 116.1635142813854, 108.59279778432183, 1580.5795603296865, 1050.3471662328543, 1012.2563722058187, 949.353244060635, 939.5551949136726, 934.7520802740734, 815.4872014281647, 812.9373227094229, 724.0724648286086, 605.246912899854, 524.3627670868225, 519.0826166998295, 491.5683877604286, 466.54237027092324, 454.0869531941727, 399.3653461602291, 386.6895419200787, 374.58310292681756, 359.4309331420287, 353.5960439635122, 345.9605390961949, 338.04770292284337, 330.02299721978125, 300.341691323161, 285.9762267704601, 281.08718170558774, 277.5051856403811, 276.3710449587682, 246.73245669155565, 223.09391466136321, 572.1655655663648, 2121.5985843613967, 1481.4694799008878, 1110.9025197534888, 445.70169013045677, 624.8950798512914, 491.5360495817687, 881.5876574803843, 454.817514167904, 432.90434156980706, 435.8840247738243, 366.76282479132664, 2268.3371969239142, 2144.834787982981, 1493.051328645046, 1352.4734097475898, 679.2380822044746, 551.3595183843456, 518.5452459308252, 397.2737999643344, 331.29301915285123, 301.06222521122237, 298.8272456899487, 297.709552559852, 250.43138991070504, 228.66305340483228, 226.43697129742657, 211.49034555709665, 204.82742820791495, 204.68128182983762, 200.02028260095327, 198.80549326437432, 196.71789304852823, 192.6842377608845, 164.78450269971242, 155.91233206592673, 137.4181294681525, 129.59065503897227, 127.74041240394163, 125.71473818861674, 125.33790729012496, 111.92481438289903, 461.6723155358995, 292.33912439149924, 310.17879509337047, 1142.0521138879144, 343.1441710555518, 632.171372951196, 392.34872549184814, 269.03832274218666, 301.9937336008358, 298.512811083854, 256.9033941794622, 206.00976740505817, 2107.194872855614, 836.1132650497514, 692.2533229342681, 572.2434699951662, 527.8845340336269, 505.0379027957906, 461.8950587488111, 429.039417720403, 418.17293453879, 379.74235374795717, 351.22556573886084, 336.182641063545, 288.45919735265164, 278.18589408478454, 276.55010898452076, 274.6288958484042, 264.81676202770103, 256.5493092371374, 236.80772373550852, 227.22759930089262, 215.3829800082209, 211.93908758639512, 211.72122571840436, 209.32977484856815, 203.33640551413976, 199.8278705796803, 193.9754561146935, 192.99110104208964, 184.67070035980572, 184.29593979068318, 370.45573456618087, 359.21455275729346, 460.21539404338284, 437.0364571790832, 273.84302723371854, 279.00268407002096, 471.2639862582873, 412.85822486842795, 220.66659487085764, 2072.830381643265, 1232.4623223339975, 1115.455143565889, 897.0735478876722, 821.6056487501643, 753.3895552436564, 653.7991037218998, 499.87976479421246, 371.63408788097166, 365.0994022596367, 337.697832724542, 332.82647764304824, 324.69320674145644, 319.7138797894473, 314.2734689875068, 262.3708880979095, 224.12086958872607, 222.08780954020594, 211.26622206595118, 185.15177482909087, 177.72035263811986, 169.92349204729229, 156.09460506048939, 154.99976230022136, 150.88246442002037, 143.54264898846776, 138.2304981671366, 127.27895740707548, 118.43166913577595, 117.34317889935278, 356.3104120672644, 476.0447587707557, 684.9908792637268, 467.6211018040042, 242.546028443178, 364.5613308690691, 234.58633710041983, 1059.4756397656877, 661.7934846102254, 614.3878162128347, 532.4035523228664, 480.1945012653842, 372.72551778722027, 330.62096645461514, 328.42273398316246, 322.0871078933433, 287.042750912273, 275.92590778334585, 220.14875864319256, 201.41249747356892, 182.42449683016645, 176.60145781178738, 175.87125838634358, 169.92319997459109, 168.91898207524946, 159.73599017039172, 158.78630763520908, 154.02064243418243, 150.01201916892106, 145.80250697213717, 144.13653285212783, 133.042667894655, 128.32804220111046, 118.86523058992357, 108.21258053811525, 94.62360929123426, 93.15657776092195, 581.9802799922433, 498.01584950136794, 172.37409784942895, 454.0214947388218, 278.87448337331006, 250.09687465726358, 304.7102058683848, 207.04934905499087, 185.21292439128547, 229.9837183700228, 2570.3045016431274, 678.6341277407342, 566.7811871576852, 558.4279273135467, 432.13895113596556, 400.91439662019127, 394.0975965628933, 349.3246027437897, 230.8175152169044, 220.50599395318667, 217.7130590451409, 199.53354657273263, 191.69158793431083, 177.29742643536605, 161.981664861573, 161.64347688476195, 142.27655632350866, 141.60796659729897, 111.92074634746989, 110.92895250756895, 108.60694141427403, 107.58772760937109, 101.58400813341758, 92.90420601977492, 84.38796513251039, 82.16611553050768, 79.03890257626293, 76.08172535715177, 73.67105553617172, 67.24548397676197, 193.0092597759345, 669.2819100547991, 328.9887929684145, 307.6243603293086, 356.93213371454635, 362.5863810698579, 379.17121362734406, 153.3386665464013, 173.67165108159227, 188.69348677479343, 120.8469161319371, 1672.1937307564897, 511.72712678218886, 443.2079238139176, 387.30615984661716, 383.13972038630476, 376.27492638198095, 325.6035916959365, 315.6564757791052, 286.2761233035654, 259.57815045404544, 229.6184643959563, 227.39723075166384, 223.76811117448705, 205.80290929648828, 203.67280301457504, 194.36836776075626, 192.68190872964692, 184.1008492434539, 180.3675243049971, 152.35488603460405, 149.63032525719984, 147.54457700228815, 145.3250346228984, 135.8286742930213, 123.51357819749659, 119.78325902191135, 117.5344962736587, 112.11853858161987, 108.05576863628167, 107.3605164271116, 504.6814846496593, 183.9083297129001, 138.56088762548012, 181.08560859035313, 189.49956775512348, 157.18810249649263, 149.38000130640845, 1026.0432626175632, 834.1062621223525, 763.8098817378476, 399.8042474232614, 392.5401487511134, 380.35721009410736, 357.74078806370693, 304.6657146901612, 284.9715255484527, 258.11088271584896, 206.8948298265615, 200.09671684539063, 165.6574535319088, 157.1261643727162, 153.57063276337252, 144.3588532686894, 142.49977347985705, 142.46119585440616, 140.36583181622282, 129.7271842687355, 129.25022723155024, 122.53621554952247, 117.535216490323, 105.26616759172626, 104.60587787678797, 99.1872634198603, 98.5325186826002, 97.38596852541497, 96.54365083335382, 95.08763458238033, 209.42147155373092, 310.06340945857573, 204.08988655929247, 116.42556860437041, 279.2612660222533, 255.88859206295186, 272.4944065516322, 129.98268320009436, 143.1973583588314, 2963.276435672499, 1465.2007017096264, 1172.6233117270315, 933.6589616194118, 486.06227606474505, 434.52239722083766, 381.56980767002244, 347.4056307899769, 339.51647832934196, 271.68135148789145, 247.6646066859794, 229.91283216417656, 204.26627151367413, 201.93661288954596, 183.1989176397162, 176.2067719285229, 167.94558125024895, 165.11985726091055, 145.36960022870215, 135.43826470717565, 131.0372749134737, 127.04566980192105, 114.83660337929688, 111.10823897245217, 101.90995749216415, 93.45032770028372, 84.01102320366539, 73.4454605699421, 67.83812377996061, 64.27227844967605, 220.50232997564314, 95.76670181813162, 1973.696187677341, 646.3341682703356, 589.62599283, 420.9434069800545, 309.08321107834803, 265.1195242185533, 125.1450892941542, 119.71739686129841, 115.99177657921454, 113.36872611994079, 111.58486746513582, 109.47553461436549, 98.56681072428454, 86.17550963379676, 76.71351168943455, 64.33439100301919, 61.59808578445633, 59.64793409671072, 57.32598375684347, 44.889211811501504, 42.33357374107003, 32.80995064778157, 27.24254181527168, 20.618140162118056, 18.62159988754839, 9.075372945271887, 6.608869315988847, 6.300695473356732, 73.47915001371916, 49.02912505301554, 210.77413487364066, 131.94158669998083, 53.44215975156787, 66.07343780086642, 34.261546101446484, 488.4835101271065, 394.7404619914045, 296.53875990249793, 260.11878234671263, 247.19565438983182, 198.30064343275205, 167.71270642262408, 163.72767757847856, 147.19692999469254, 138.9429401622771, 125.36238854556721, 110.51866992732957, 91.17107707752332, 86.83860526511788, 76.93014863994838, 65.5350612229207, 53.39562242201987, 45.45333397379332, 41.968446171517144, 34.65838425105426, 34.08091623548469, 32.2626859461667, 25.855451795253863, 24.37356630449591, 24.170613884667684, 21.371431022303405, 20.733667317597213, 259.0722439966658, 16.70949867030545, 15.848085114215666, 132.28783696481077, 18.378315979968907, 248.80833770204737, 214.6888144949909, 186.87630560037275, 138.52098537562716, 114.35898294338656, 92.77949018115272, 92.18461209197787, 80.39660531689943, 77.21119777033304, 65.14306721603394, 46.23935173221247, 43.938850938359806, 40.82634464044224, 39.490700647907836, 39.01286920237833, 38.23374320150753, 36.41050913664612, 33.68542682292379, 33.34362502841323, 30.92491971887637, 30.048203387321596, 28.7416321397343, 27.803574997729008, 26.707982255099196, 26.618494997332643, 24.813549216621517, 20.81141936094781, 20.607186984132397, 19.751684087141808, 13.59396315463048, 122.22644312037694, 540.3920425197706, 195.637552182233, 162.14965980237494, 94.28098024023005, 59.82713663178122, 57.737649507746916, 54.14296602864921, 51.49973075052032, 51.05620281260765, 45.147439573923165, 40.655618292502524, 35.58566644936478, 30.207857899499565, 29.881806929851248, 27.71040022432035, 26.963665418658923, 20.994815713982867, 16.7328113708651, 12.06618373207453, 10.319441948877234, 9.55616992017134, 6.381489301795083, 6.145784109832436, 5.51562136103817, 5.2607986608073265, 4.677468678129324, 73.72890846952919, 0.04002908359235751, 0.040028190085113845, 0.04002773992115902, 0.04002816280244992], \"Total\": [41584.0, 16918.0, 13232.0, 10186.0, 9135.0, 6437.0, 5901.0, 5003.0, 2964.0, 10605.0, 7855.0, 6311.0, 4874.0, 2571.0, 7735.0, 1974.0, 6897.0, 8906.0, 2269.0, 2074.0, 2146.0, 3275.0, 2108.0, 5681.0, 3106.0, 9023.0, 4188.0, 1673.0, 2182.0, 3259.0, 7735.91496717627, 5681.745526119003, 4033.8954635576724, 2958.710702852086, 2826.4599624608054, 2285.7270740361955, 2229.6936982818916, 2111.4084706973117, 2050.05082392343, 1497.8243689635965, 1414.5674333712418, 1333.7508803949513, 1297.62696333839, 1328.1158277381635, 994.6224749986113, 934.5389713349653, 930.8803792794081, 920.4491124920374, 855.2703576434583, 803.1465415270305, 792.3428238978937, 778.7295024563564, 767.7847761048109, 738.1804375002012, 668.239904932454, 617.5125226522472, 607.5768783019695, 581.6131845232384, 570.0623262978139, 559.1044606576372, 6897.453216024819, 3132.9532487053903, 10605.37156547398, 1257.24854057855, 1540.808952987965, 1995.444605944051, 4811.531417953508, 1277.8891950257125, 3808.268026462164, 8906.74739198698, 2207.1178527133725, 2078.271441941606, 5681.403128544732, 2747.3028937586932, 2005.7460963624003, 1906.3393313044303, 6620.089793366589, 4189.74819452001, 7792.952122202785, 6257.74009567538, 4855.399372360362, 4793.377573140586, 2214.74143935682, 4353.338631269915, 3409.1491358096036, 8376.422057544238, 4694.2037860815235, 4874.817599776211, 2746.660617759462, 4925.343438189379, 9023.216395598934, 2828.30346757644, 4458.284176685504, 4985.5766605380295, 4136.746669286427, 3599.601656033121, 3557.893758485943, 3145.121091975517, 2902.536319805411, 2311.414613054183, 2191.0805061277906, 1890.084534423327, 1848.6436156254786, 1757.656613664569, 1715.210742914832, 1678.5587633878527, 1501.3746037886294, 1360.5438988170997, 1192.3207869689968, 1173.0978003542564, 1134.233581948263, 1098.3412959283335, 1086.553247103917, 1067.0669664318134, 1063.293063526643, 1026.921637941889, 1016.5416595710597, 981.2391832460726, 945.1042891749998, 944.4820283242946, 928.2696310323098, 927.7613371302082, 834.9523507127705, 828.4235245351044, 796.5716030129302, 7855.0493704824175, 3088.415834956277, 1638.6308645174893, 1654.1164431771742, 1384.6778684394505, 3890.342916088087, 1849.0784488019176, 4043.799800491743, 3031.6800434439137, 1509.1913506485712, 9023.216395598934, 3585.099837658349, 1980.3014606977604, 3946.406159016612, 2031.113333185466, 8376.422057544238, 2690.812316119017, 4136.746669286427, 7792.952122202785, 4458.284176685504, 4225.002077718138, 2911.1808785770013, 2772.295453467107, 2340.3142218926455, 1993.4044636644605, 1815.767131110755, 1516.4269044939422, 1365.7718239174667, 1331.8390884198884, 1324.705015559159, 1286.602813486658, 1198.351837621064, 1109.7499958471012, 1023.7120931745247, 933.3358358256503, 908.8905475868195, 889.7887425149257, 887.4500376780103, 849.4931771485315, 791.124030379243, 787.3852472164855, 760.5468658333459, 759.0390582696058, 672.4898272008305, 658.3705333798872, 1705.142180687111, 648.1917612179485, 647.0066108162894, 645.254312430824, 611.7419540121406, 586.6657992449151, 2492.184203446141, 2014.367104016359, 2612.5466822234557, 1470.622478798121, 2623.034328560104, 2233.1488142153476, 787.3995241912799, 1215.9284641543986, 1084.937501710431, 1192.7614581934865, 1025.959876331353, 3290.344932965098, 3160.7639017621477, 6143.583759887167, 1364.2233762284027, 3082.713952730608, 4201.244206909684, 2471.5561699129967, 6311.25099076451, 2051.938211032417, 4985.5766605380295, 4174.4029284427215, 4925.343438189379, 2730.9433565674076, 1542.9325753147439, 1301.596118192907, 1222.4988164746785, 933.6983905568966, 806.7372126325199, 749.8538373131267, 717.4614243867846, 708.7258237539844, 690.1600510496623, 676.5449143630639, 664.1012138670137, 656.3999460500187, 629.9716983471358, 628.3094970855334, 627.608314676054, 615.9517264418597, 615.0310616083991, 593.3682224362032, 579.3198857719051, 558.3297806509381, 553.9386702503402, 542.1222533465943, 535.5983954691063, 494.53479798027234, 479.2211999140123, 472.0371820799843, 467.8988064377176, 430.87111203722475, 398.3277266368971, 380.86855637059995, 1954.4944270712047, 577.6340400722182, 916.8218581291479, 895.7945133010761, 1221.3312812644383, 843.8752722842413, 1245.125040995064, 2267.183471732193, 694.6998611050639, 856.8995448984062, 1284.9935318748185, 3290.344932965098, 1615.636840377846, 982.312773930528, 1990.552060612041, 1161.244001388025, 1074.2705505074116, 5003.661943110068, 2334.247959625239, 1449.6842915562079, 1082.9328059081583, 1050.3820212040591, 923.3036582467463, 911.9071215719445, 884.34263546258, 872.1092702895636, 832.4728227906993, 812.7247399050246, 810.3963817682132, 805.6517502876582, 712.6488592451478, 708.0644359024993, 626.507618589559, 2121.8928944708455, 603.0424680272863, 561.4571802938125, 540.7858283276609, 518.7223793308772, 507.1029061779445, 499.4648841322971, 492.19195305106206, 481.0093858164517, 470.23467181291295, 436.7299712887878, 432.75242585757513, 432.1096006972006, 424.9825309210032, 978.1644743939651, 1415.1957563573897, 1629.5790604317851, 1132.8127262221149, 6311.25099076451, 969.3687258777063, 1616.540923336835, 4188.5870031342465, 3259.3831431577173, 989.14704161049, 1966.3413003497476, 4985.5766605380295, 6437.030298956484, 5901.8761920465195, 689.5115812639386, 497.51545173495145, 350.16768658813027, 274.28825678707335, 200.66398537593818, 179.50760387643993, 144.61208612280507, 2095.256243430016, 131.38041876595315, 98.58435256459747, 75.5882692809041, 72.55772945013125, 51.36901429319198, 47.99693362011489, 47.928071028027624, 10186.343379113297, 41.321915070489936, 3275.18324306822, 33.889690707300964, 1257.9604628277507, 1451.7557274481417, 22.43305774121486, 21.49734627317789, 9135.217051978707, 15.382893916135668, 16918.58376503745, 1060.1543685327952, 3106.5747655643972, 13232.263534557169, 1026.5322706409838, 582.2569438935836, 187.94008936219524, 355.90112033893695, 741.715307263202, 350.2714618156942, 1101.1727928559892, 1166.4753133870145, 1093.982817362371, 1081.9298139124044, 1130.0785395956473, 526.2163421843522, 1363.508892276193, 1990.552060612041, 811.0355179910075, 1540.5835639055215, 686.4069606817218, 703.9519341289131, 41584.050364187126, 1530.8143230126398, 778.1782701330525, 746.4859407043343, 726.060969586568, 511.5234601979461, 415.44826200603404, 370.0351418809528, 345.05850137258705, 280.72463223020395, 272.9619535654757, 268.3079716616888, 213.48321629261494, 203.74842544187507, 185.3616091060807, 163.9755353741936, 158.87221770991246, 157.75926720326544, 150.7354060351313, 149.9565286954688, 144.54369263920674, 144.0657782963719, 143.6037527890686, 140.3189689739318, 138.8156940663734, 127.14198459788628, 123.63532753514221, 118.16435891974099, 117.3603227500391, 109.78960607500646, 1581.841331848896, 1051.6089377520639, 1013.5181437250282, 950.6150155877355, 940.8169664407731, 936.0138518011738, 816.7489729473741, 814.1990942286324, 725.3342363478181, 606.5086844361813, 525.6245386060319, 520.3443882190389, 492.83015927963794, 467.8041417901326, 455.3487247304563, 400.6271176835441, 387.951313439288, 375.8448744460269, 360.69270466123805, 354.8578154919484, 347.22231061540424, 339.3094744420527, 331.28476882009585, 301.6034629435407, 287.23799831408127, 282.34895322479707, 278.7669571779612, 277.63281648720437, 247.99422821076507, 224.35568618057263, 577.45379751941, 2182.26059841937, 1536.9893974319616, 1241.1112592820575, 466.1675914103503, 705.6515631047017, 567.268793105285, 1336.8084598390385, 573.5848463257789, 567.8684015710185, 800.4108159577419, 765.9466833556415, 2269.598634681507, 2146.096225740574, 1494.3127664118658, 1353.7348475051829, 680.4995199620676, 552.6209561419386, 519.806683704424, 398.53523775316967, 332.55445692377657, 302.3236629688152, 300.08868345359053, 298.97099035603134, 251.69282768541586, 229.9244911624252, 227.69840905501948, 212.75178331877774, 206.08886596550786, 205.94271959229536, 201.28172035854618, 200.06693102196724, 197.97933084597625, 193.94567553101814, 166.04594046701308, 157.17376982351965, 138.67956723298474, 130.85209286501365, 129.00185018330208, 126.97617594620961, 126.59934504771783, 113.18625222781328, 629.8839425402674, 400.9849246280354, 503.5792242365963, 4874.817599776211, 687.40044091777, 3259.3831431577173, 1320.6459038502492, 716.9091170920514, 3842.792663845439, 3890.342916088087, 2285.517769265816, 515.4191204181208, 2108.455658145595, 837.3740503397328, 693.5141082242495, 573.5042552851476, 529.1453193236083, 506.2986880998636, 463.1558440863058, 430.30020311942866, 419.43371987755484, 381.00313904716535, 352.4863510288422, 337.443426377132, 289.719982642633, 279.44667938506046, 277.8108942745021, 275.8896811703324, 266.0775473345753, 257.81009452711874, 238.0685090254899, 228.48838460581825, 216.6437653425645, 213.19987293165713, 212.98201100838574, 210.59056016317246, 204.5971908122975, 201.08865600454556, 195.236241408994, 194.2518863402649, 185.93148568711086, 185.55672508066456, 378.30774734030643, 401.96036074525404, 547.6301767960935, 535.1981487977666, 329.9962574301185, 351.10771034034053, 893.1896294713367, 870.2672253551127, 1751.6323089394673, 2074.097765817716, 1233.7297065084492, 1116.7225277403409, 898.3409320621239, 822.8730329316513, 754.6569394181081, 655.0664878963514, 501.1471489686641, 372.90147206266266, 366.36678643408834, 338.9652169181332, 334.0938618237062, 325.9605909159081, 320.98126396730925, 315.54085316195847, 263.6382722723612, 225.38825376317774, 223.35519371952248, 212.53360624040286, 186.41915902040415, 178.9877368244717, 171.19087622174396, 157.36198925787338, 156.2671464838562, 152.14984859447205, 144.8100332059966, 139.4978823604792, 128.54634159590987, 119.69905331941077, 118.61056307380441, 374.5423603031784, 507.6730957609554, 778.260691643682, 960.3169768580156, 392.22869279508194, 1029.4532821251378, 2107.5618837102447, 1060.742266491228, 663.0601112668072, 615.6544428694165, 533.6701789794482, 481.46112792196607, 373.99214444380215, 331.8875931199348, 329.68936063974434, 323.35373454992515, 288.30937756885487, 277.1925344440334, 221.4153852997745, 202.679124186932, 183.69112348674838, 177.8680845235463, 177.1378850470137, 171.18982663117302, 170.1856087318314, 161.00261683162327, 160.0529343566903, 155.28726912477364, 151.2786460387911, 147.0691336287191, 145.40315950870976, 134.30929456774516, 129.5946688576924, 120.13185724650545, 109.47920719469712, 95.89023594781614, 94.4232044256802, 685.8110025912341, 877.5415016504996, 240.9329448805227, 1336.8084598390385, 564.2193664556796, 565.4739861648225, 1004.6115031666714, 540.4432524791459, 483.472608735074, 2058.9906402209917, 2571.5710605792856, 679.9006866768926, 568.0477460938436, 559.694486298199, 433.40551007212406, 402.1809555563498, 395.36415551914877, 350.5911616799482, 232.08407415306294, 221.7725529250946, 218.97961798129944, 200.80010553275937, 192.95814687046936, 178.56398537152458, 163.24822380378052, 162.91003582092048, 143.54311526453202, 142.87452553754568, 113.18730531958892, 112.19551147507458, 109.87350035452069, 108.85428664730154, 102.85056708143948, 94.1707649559334, 85.65452407684523, 83.4326744890588, 80.30546154347282, 77.34828433792514, 74.9376144723302, 68.51204291292045, 267.9647032879945, 1610.1363032056818, 615.1521276620713, 606.8095054520945, 1363.508892276193, 1616.540923336835, 2058.9906402209917, 319.8748582090814, 712.0555573004532, 1026.5322706409838, 1996.2721401204956, 1673.4626064750591, 512.9960025480638, 444.4767995324869, 388.57503556518645, 384.40859610487405, 377.54380210055024, 326.87246741450576, 316.9253515370518, 287.5449990221347, 260.84702617261473, 230.8873401145256, 228.66610647023316, 225.03698691066438, 207.0717851669221, 204.94167875995873, 195.63724347932558, 193.95078444821624, 185.3697249620232, 181.6364000235664, 153.62376175317337, 150.89920097576916, 148.81345279558397, 146.59391037229264, 137.0975500115906, 124.7824539349568, 121.05213474048065, 118.80337199222801, 113.38741433044527, 109.32464441491831, 108.62939214568091, 934.1092869732311, 315.60423412345807, 203.7922330203261, 462.76180561526365, 4874.817599776211, 1415.1957563573897, 1130.0785395956473, 1027.3138491568795, 835.3768486616686, 765.0804682771637, 401.07483396257766, 393.81073529042965, 381.6277966334236, 359.01137460302317, 305.9363012557252, 286.24211208776893, 259.3814692551652, 208.16541636996593, 201.3673033939337, 166.92804008376575, 158.39675092389587, 154.84121931522947, 145.62943980800563, 143.77036013915406, 143.7337523754188, 141.63641835553906, 130.99777080805174, 130.52081382077043, 123.80680210211445, 118.80580306682502, 106.53675414793537, 105.87646442231053, 100.45785026526278, 99.8031052741386, 98.65655506473118, 97.81423738974429, 96.35822112169654, 315.6183906777021, 601.5755181255339, 330.68659092679275, 132.72382351532244, 760.7981640704393, 1130.0785395956473, 1451.4140664920983, 345.02696771793387, 1251.9137602771202, 2964.548917238283, 1466.4731832846383, 1173.8957932928165, 934.9314431851966, 487.33475763052985, 435.79487880839, 382.84228924503407, 348.6781123619681, 340.78895989512677, 272.95383305367625, 248.93708831233124, 231.1853137514261, 205.53875307945896, 203.20909446688924, 184.4713992136949, 177.47925350327824, 169.21806283099542, 166.39233883722085, 146.64208179448698, 136.71074629260005, 132.3097564925474, 128.31815137181155, 116.10908494508169, 112.38072053823699, 103.18243905794897, 94.72280946036071, 85.28350505503587, 74.71794213572691, 69.11060535298475, 65.54476001994108, 268.8005848083661, 112.88900556874626, 1974.9631765012555, 647.6011570942499, 590.8929816539143, 422.2103958039688, 310.3501999022624, 266.3865130802482, 126.41207811806855, 120.98438572276625, 117.25876541641776, 114.63571496048402, 112.85185630138889, 110.74252344750666, 99.83379959557404, 87.44249846179929, 77.98050060833756, 65.60137982693354, 62.865074638033086, 60.91492292062507, 58.59297258075782, 46.15620063541585, 43.60056256498438, 34.076939471695916, 28.509530749842757, 21.88512899936492, 19.888588737810316, 10.342361789675163, 7.875858139903199, 7.567684346617885, 211.17879938686073, 142.79423641622992, 962.9623194215033, 747.9497983078388, 197.0369854167468, 1451.7557274481417, 1025.959876331353, 489.7648244679958, 396.0217763250545, 297.8200742361479, 261.4000966803626, 248.47696875421983, 199.58195776640198, 168.99402077170717, 165.00899193385982, 148.47824435883237, 140.22425452659897, 126.64370287921716, 111.79998427352022, 92.45239144792076, 88.11991959876782, 78.21146297359833, 66.81637556122027, 54.676936760319435, 46.73464830744326, 43.24976053770069, 35.939698584704196, 35.36223056913463, 33.54400033783798, 27.136766128903812, 25.65488066116264, 25.451928222405815, 22.652745355953353, 22.01498167336749, 275.94415380203134, 17.990813024823524, 17.129399447865612, 425.7822188406513, 405.93710030757217, 250.09373876336096, 215.9742155521988, 188.16170669110647, 139.80638643283507, 115.64438400470016, 94.06489123836063, 93.47001316172648, 81.68200637920674, 78.49659882754095, 66.42846831910049, 47.52475279864719, 45.224251995567705, 42.11174570346455, 40.776101705115735, 40.29827025958623, 39.519144336524434, 37.69591019385402, 34.970827901771194, 34.62902616035825, 32.210320776084274, 31.333604487858565, 30.027033201047896, 29.08897616618875, 27.99338334460385, 27.903896109607636, 26.098950273829423, 22.09682043462186, 21.892588051242893, 21.037085160718878, 14.879364215926566, 137.4386841819365, 541.6811090837645, 196.92661874622692, 163.43872636636885, 95.57004682648335, 61.116203221819916, 59.02671607174083, 55.432032592643125, 52.78879732056324, 52.34526938265057, 46.436506163319564, 41.944684890247025, 36.87473307171051, 31.496924463493478, 31.170873493845157, 28.99946679436327, 28.25273199887215, 22.28388227797678, 18.021877970819567, 13.35525029606844, 11.608508519077489, 10.845236498957497, 7.6705558657889945, 7.434850673826348, 6.80468793108109, 6.549865224801238, 5.966535258462022, 267.9647032879945, 1.3291195138066614, 1.3291057747245718, 1.329132576708251, 1.3291822286367867], \"Category\": [\"Default\", \"Default\", \"Default\", \"Default\", \"Default\", \"Default\", \"Default\", \"Default\", \"Default\", \"Default\", \"Default\", \"Default\", \"Default\", \"Default\", \"Default\", \"Default\", \"Default\", \"Default\", \"Default\", \"Default\", \"Default\", \"Default\", \"Default\", \"Default\", \"Default\", \"Default\", \"Default\", \"Default\", \"Default\", \"Default\", \"Topic1\", \"Topic1\", \"Topic1\", \"Topic1\", \"Topic1\", \"Topic1\", \"Topic1\", \"Topic1\", \"Topic1\", \"Topic1\", \"Topic1\", \"Topic1\", \"Topic1\", \"Topic1\", \"Topic1\", \"Topic1\", \"Topic1\", \"Topic1\", \"Topic1\", \"Topic1\", \"Topic1\", \"Topic1\", \"Topic1\", \"Topic1\", \"Topic1\", \"Topic1\", \"Topic1\", \"Topic1\", \"Topic1\", \"Topic1\", \"Topic1\", \"Topic1\", \"Topic1\", \"Topic1\", \"Topic1\", \"Topic1\", \"Topic1\", \"Topic1\", \"Topic1\", \"Topic1\", \"Topic1\", \"Topic1\", \"Topic1\", \"Topic1\", \"Topic1\", \"Topic1\", \"Topic1\", \"Topic1\", \"Topic1\", \"Topic1\", \"Topic1\", \"Topic1\", \"Topic1\", \"Topic1\", \"Topic1\", \"Topic1\", \"Topic1\", \"Topic1\", \"Topic1\", \"Topic1\", \"Topic1\", \"Topic1\", \"Topic1\", \"Topic1\", \"Topic1\", \"Topic2\", \"Topic2\", \"Topic2\", \"Topic2\", \"Topic2\", \"Topic2\", \"Topic2\", \"Topic2\", \"Topic2\", \"Topic2\", \"Topic2\", \"Topic2\", \"Topic2\", \"Topic2\", \"Topic2\", \"Topic2\", \"Topic2\", \"Topic2\", \"Topic2\", \"Topic2\", \"Topic2\", \"Topic2\", \"Topic2\", \"Topic2\", \"Topic2\", \"Topic2\", \"Topic2\", \"Topic2\", \"Topic2\", \"Topic2\", \"Topic2\", \"Topic2\", \"Topic2\", \"Topic2\", \"Topic2\", \"Topic2\", \"Topic2\", \"Topic2\", \"Topic2\", \"Topic2\", \"Topic2\", \"Topic2\", \"Topic2\", \"Topic2\", \"Topic2\", \"Topic2\", \"Topic2\", \"Topic2\", \"Topic2\", \"Topic2\", \"Topic2\", \"Topic3\", \"Topic3\", \"Topic3\", \"Topic3\", \"Topic3\", \"Topic3\", \"Topic3\", \"Topic3\", \"Topic3\", \"Topic3\", \"Topic3\", \"Topic3\", \"Topic3\", \"Topic3\", \"Topic3\", \"Topic3\", \"Topic3\", \"Topic3\", \"Topic3\", \"Topic3\", \"Topic3\", \"Topic3\", \"Topic3\", \"Topic3\", \"Topic3\", \"Topic3\", \"Topic3\", \"Topic3\", \"Topic3\", \"Topic3\", \"Topic3\", \"Topic3\", \"Topic3\", \"Topic3\", \"Topic3\", \"Topic3\", \"Topic3\", \"Topic3\", \"Topic3\", \"Topic3\", \"Topic3\", \"Topic3\", \"Topic3\", \"Topic3\", \"Topic3\", \"Topic3\", \"Topic3\", \"Topic3\", \"Topic3\", \"Topic3\", \"Topic3\", \"Topic3\", \"Topic3\", \"Topic3\", \"Topic4\", \"Topic4\", \"Topic4\", \"Topic4\", \"Topic4\", \"Topic4\", \"Topic4\", \"Topic4\", \"Topic4\", \"Topic4\", \"Topic4\", \"Topic4\", \"Topic4\", \"Topic4\", \"Topic4\", \"Topic4\", \"Topic4\", \"Topic4\", \"Topic4\", \"Topic4\", \"Topic4\", \"Topic4\", \"Topic4\", \"Topic4\", \"Topic4\", \"Topic4\", \"Topic4\", \"Topic4\", \"Topic4\", \"Topic4\", \"Topic4\", \"Topic4\", \"Topic4\", \"Topic4\", \"Topic4\", \"Topic4\", \"Topic4\", \"Topic4\", \"Topic4\", \"Topic4\", \"Topic4\", \"Topic4\", \"Topic4\", \"Topic4\", \"Topic4\", \"Topic4\", \"Topic4\", \"Topic5\", \"Topic5\", \"Topic5\", \"Topic5\", \"Topic5\", \"Topic5\", \"Topic5\", \"Topic5\", \"Topic5\", \"Topic5\", \"Topic5\", \"Topic5\", \"Topic5\", \"Topic5\", \"Topic5\", \"Topic5\", \"Topic5\", \"Topic5\", \"Topic5\", \"Topic5\", \"Topic5\", \"Topic5\", \"Topic5\", \"Topic5\", \"Topic5\", \"Topic5\", \"Topic5\", \"Topic5\", \"Topic5\", \"Topic5\", \"Topic5\", \"Topic5\", \"Topic5\", \"Topic5\", \"Topic5\", \"Topic5\", \"Topic5\", \"Topic5\", \"Topic5\", \"Topic5\", \"Topic5\", \"Topic5\", \"Topic6\", \"Topic6\", \"Topic6\", \"Topic6\", \"Topic6\", \"Topic6\", \"Topic6\", \"Topic6\", \"Topic6\", \"Topic6\", \"Topic6\", \"Topic6\", \"Topic6\", \"Topic6\", \"Topic6\", \"Topic6\", \"Topic6\", \"Topic6\", \"Topic6\", \"Topic6\", \"Topic6\", \"Topic6\", \"Topic6\", \"Topic6\", \"Topic6\", \"Topic6\", \"Topic6\", \"Topic6\", \"Topic6\", \"Topic6\", \"Topic6\", \"Topic6\", \"Topic6\", \"Topic6\", \"Topic6\", \"Topic6\", \"Topic6\", \"Topic6\", \"Topic6\", \"Topic6\", \"Topic6\", \"Topic6\", \"Topic6\", \"Topic6\", \"Topic6\", \"Topic6\", \"Topic6\", \"Topic6\", \"Topic6\", \"Topic7\", \"Topic7\", \"Topic7\", \"Topic7\", \"Topic7\", \"Topic7\", \"Topic7\", \"Topic7\", \"Topic7\", \"Topic7\", \"Topic7\", \"Topic7\", \"Topic7\", \"Topic7\", \"Topic7\", \"Topic7\", \"Topic7\", \"Topic7\", \"Topic7\", \"Topic7\", \"Topic7\", \"Topic7\", \"Topic7\", \"Topic7\", \"Topic7\", \"Topic7\", \"Topic7\", \"Topic7\", \"Topic7\", \"Topic7\", \"Topic8\", \"Topic8\", \"Topic8\", \"Topic8\", \"Topic8\", \"Topic8\", \"Topic8\", \"Topic8\", \"Topic8\", \"Topic8\", \"Topic8\", \"Topic8\", \"Topic8\", \"Topic8\", \"Topic8\", \"Topic8\", \"Topic8\", \"Topic8\", \"Topic8\", \"Topic8\", \"Topic8\", \"Topic8\", \"Topic8\", \"Topic8\", \"Topic8\", \"Topic8\", \"Topic8\", \"Topic8\", \"Topic8\", \"Topic8\", \"Topic8\", \"Topic8\", \"Topic8\", \"Topic8\", \"Topic8\", \"Topic8\", \"Topic8\", \"Topic8\", \"Topic8\", \"Topic8\", \"Topic8\", \"Topic8\", \"Topic9\", \"Topic9\", \"Topic9\", \"Topic9\", \"Topic9\", \"Topic9\", \"Topic9\", \"Topic9\", \"Topic9\", \"Topic9\", \"Topic9\", \"Topic9\", \"Topic9\", \"Topic9\", \"Topic9\", \"Topic9\", \"Topic9\", \"Topic9\", \"Topic9\", \"Topic9\", \"Topic9\", \"Topic9\", \"Topic9\", \"Topic9\", \"Topic9\", \"Topic9\", \"Topic9\", \"Topic9\", \"Topic9\", \"Topic9\", \"Topic9\", \"Topic9\", \"Topic9\", \"Topic9\", \"Topic9\", \"Topic9\", \"Topic9\", \"Topic9\", \"Topic9\", \"Topic9\", \"Topic9\", \"Topic9\", \"Topic10\", \"Topic10\", \"Topic10\", \"Topic10\", \"Topic10\", \"Topic10\", \"Topic10\", \"Topic10\", \"Topic10\", \"Topic10\", \"Topic10\", \"Topic10\", \"Topic10\", \"Topic10\", \"Topic10\", \"Topic10\", \"Topic10\", \"Topic10\", \"Topic10\", \"Topic10\", \"Topic10\", \"Topic10\", \"Topic10\", \"Topic10\", \"Topic10\", \"Topic10\", \"Topic10\", \"Topic10\", \"Topic10\", \"Topic10\", \"Topic10\", \"Topic10\", \"Topic10\", \"Topic10\", \"Topic10\", \"Topic10\", \"Topic10\", \"Topic10\", \"Topic10\", \"Topic11\", \"Topic11\", \"Topic11\", \"Topic11\", \"Topic11\", \"Topic11\", \"Topic11\", \"Topic11\", \"Topic11\", \"Topic11\", \"Topic11\", \"Topic11\", \"Topic11\", \"Topic11\", \"Topic11\", \"Topic11\", \"Topic11\", \"Topic11\", \"Topic11\", \"Topic11\", \"Topic11\", \"Topic11\", \"Topic11\", \"Topic11\", \"Topic11\", \"Topic11\", \"Topic11\", \"Topic11\", \"Topic11\", \"Topic11\", \"Topic11\", \"Topic11\", \"Topic11\", \"Topic11\", \"Topic11\", \"Topic11\", \"Topic11\", \"Topic12\", \"Topic12\", \"Topic12\", \"Topic12\", \"Topic12\", \"Topic12\", \"Topic12\", \"Topic12\", \"Topic12\", \"Topic12\", \"Topic12\", \"Topic12\", \"Topic12\", \"Topic12\", \"Topic12\", \"Topic12\", \"Topic12\", \"Topic12\", \"Topic12\", \"Topic12\", \"Topic12\", \"Topic12\", \"Topic12\", \"Topic12\", \"Topic12\", \"Topic12\", \"Topic12\", \"Topic12\", \"Topic12\", \"Topic12\", \"Topic12\", \"Topic12\", \"Topic12\", \"Topic12\", \"Topic12\", \"Topic12\", \"Topic12\", \"Topic12\", \"Topic12\", \"Topic12\", \"Topic13\", \"Topic13\", \"Topic13\", \"Topic13\", \"Topic13\", \"Topic13\", \"Topic13\", \"Topic13\", \"Topic13\", \"Topic13\", \"Topic13\", \"Topic13\", \"Topic13\", \"Topic13\", \"Topic13\", \"Topic13\", \"Topic13\", \"Topic13\", \"Topic13\", \"Topic13\", \"Topic13\", \"Topic13\", \"Topic13\", \"Topic13\", \"Topic13\", \"Topic13\", \"Topic13\", \"Topic13\", \"Topic13\", \"Topic13\", \"Topic13\", \"Topic13\", \"Topic13\", \"Topic13\", \"Topic13\", \"Topic13\", \"Topic13\", \"Topic13\", \"Topic13\", \"Topic13\", \"Topic13\", \"Topic14\", \"Topic14\", \"Topic14\", \"Topic14\", \"Topic14\", \"Topic14\", \"Topic14\", \"Topic14\", \"Topic14\", \"Topic14\", \"Topic14\", \"Topic14\", \"Topic14\", \"Topic14\", \"Topic14\", \"Topic14\", \"Topic14\", \"Topic14\", \"Topic14\", \"Topic14\", \"Topic14\", \"Topic14\", \"Topic14\", \"Topic14\", \"Topic14\", \"Topic14\", \"Topic14\", \"Topic14\", \"Topic14\", \"Topic14\", \"Topic14\", \"Topic14\", \"Topic14\", \"Topic14\", \"Topic14\", \"Topic14\", \"Topic14\", \"Topic15\", \"Topic15\", \"Topic15\", \"Topic15\", \"Topic15\", \"Topic15\", \"Topic15\", \"Topic15\", \"Topic15\", \"Topic15\", \"Topic15\", \"Topic15\", \"Topic15\", \"Topic15\", \"Topic15\", \"Topic15\", \"Topic15\", \"Topic15\", \"Topic15\", \"Topic15\", \"Topic15\", \"Topic15\", \"Topic15\", \"Topic15\", \"Topic15\", \"Topic15\", \"Topic15\", \"Topic15\", \"Topic15\", \"Topic15\", \"Topic15\", \"Topic15\", \"Topic15\", \"Topic15\", \"Topic15\", \"Topic15\", \"Topic15\", \"Topic15\", \"Topic15\", \"Topic16\", \"Topic16\", \"Topic16\", \"Topic16\", \"Topic16\", \"Topic16\", \"Topic16\", \"Topic16\", \"Topic16\", \"Topic16\", \"Topic16\", \"Topic16\", \"Topic16\", \"Topic16\", \"Topic16\", \"Topic16\", \"Topic16\", \"Topic16\", \"Topic16\", \"Topic16\", \"Topic16\", \"Topic16\", \"Topic16\", \"Topic16\", \"Topic16\", \"Topic16\", \"Topic16\", \"Topic16\", \"Topic16\", \"Topic16\", \"Topic16\", \"Topic16\", \"Topic17\", \"Topic17\", \"Topic17\", \"Topic17\", \"Topic17\", \"Topic17\", \"Topic17\", \"Topic17\", \"Topic17\", \"Topic17\", \"Topic17\", \"Topic17\", \"Topic17\", \"Topic17\", \"Topic17\", \"Topic17\", \"Topic17\", \"Topic17\", \"Topic17\", \"Topic17\", \"Topic17\", \"Topic17\", \"Topic17\", \"Topic17\", \"Topic17\", \"Topic17\", \"Topic17\", \"Topic17\", \"Topic17\", \"Topic17\", \"Topic17\", \"Topic17\", \"Topic17\", \"Topic17\", \"Topic17\", \"Topic18\", \"Topic18\", \"Topic18\", \"Topic18\", \"Topic18\", \"Topic18\", \"Topic18\", \"Topic18\", \"Topic18\", \"Topic18\", \"Topic18\", \"Topic18\", \"Topic18\", \"Topic18\", \"Topic18\", \"Topic18\", \"Topic18\", \"Topic18\", \"Topic18\", \"Topic18\", \"Topic18\", \"Topic18\", \"Topic18\", \"Topic18\", \"Topic18\", \"Topic18\", \"Topic18\", \"Topic18\", \"Topic18\", \"Topic18\", \"Topic18\", \"Topic18\", \"Topic19\", \"Topic19\", \"Topic19\", \"Topic19\", \"Topic19\", \"Topic19\", \"Topic19\", \"Topic19\", \"Topic19\", \"Topic19\", \"Topic19\", \"Topic19\", \"Topic19\", \"Topic19\", \"Topic19\", \"Topic19\", \"Topic19\", \"Topic19\", \"Topic19\", \"Topic19\", \"Topic19\", \"Topic19\", \"Topic19\", \"Topic19\", \"Topic19\", \"Topic19\", \"Topic19\", \"Topic19\", \"Topic19\", \"Topic19\", \"Topic19\", \"Topic20\", \"Topic20\", \"Topic20\", \"Topic20\", \"Topic20\", \"Topic20\", \"Topic20\", \"Topic20\", \"Topic20\", \"Topic20\", \"Topic20\", \"Topic20\", \"Topic20\", \"Topic20\", \"Topic20\", \"Topic20\", \"Topic20\", \"Topic20\", \"Topic20\", \"Topic20\", \"Topic20\", \"Topic20\", \"Topic20\", \"Topic20\", \"Topic20\", \"Topic20\", \"Topic20\", \"Topic20\", \"Topic20\", \"Topic20\", \"Topic20\"], \"logprob\": [30.0, 29.0, 28.0, 27.0, 26.0, 25.0, 24.0, 23.0, 22.0, 21.0, 20.0, 19.0, 18.0, 17.0, 16.0, 15.0, 14.0, 13.0, 12.0, 11.0, 10.0, 9.0, 8.0, 7.0, 6.0, 5.0, 4.0, 3.0, 2.0, 1.0, -3.7077, -4.0164, -4.359, -4.6691, -4.7148, -4.9273, -4.9521, -5.0067, -5.0362, -5.3502, -5.4075, -5.4664, -5.4939, -5.4708, -5.7601, -5.8225, -5.8264, -5.8377, -5.9112, -5.9742, -5.9878, -6.0051, -6.0193, -6.0587, -6.1584, -6.2375, -6.2538, -6.2975, -6.3176, -6.3371, -3.8341, -4.6175, -3.4444, -5.5377, -5.3406, -5.0887, -4.2353, -5.5276, -4.4826, -3.6901, -5.0188, -5.0755, -4.1329, -4.8172, -5.1128, -5.1681, -4.0525, -4.474, -3.9848, -4.181, -4.3997, -4.4157, -5.0529, -4.5531, -4.7479, -4.1064, -4.546, -4.5495, -4.9036, -4.6159, -4.417, -4.9091, -4.7775, -4.8357, -4.8973, -4.3459, -4.3575, -4.4809, -4.5612, -4.789, -4.8425, -4.9904, -5.0126, -5.0631, -5.0875, -5.1092, -5.2208, -5.3194, -5.4515, -5.4678, -5.5015, -5.5337, -5.5445, -5.5626, -5.5662, -5.601, -5.6112, -5.6466, -5.6841, -5.6848, -5.7021, -5.7027, -5.8082, -5.8161, -5.8554, -3.5837, -4.5107, -5.1482, -5.1526, -5.342, -4.4199, -5.0983, -4.5229, -4.7707, -5.3115, -3.9745, -4.6718, -5.1089, -4.6894, -5.1534, -4.5536, -5.1223, -5.0489, -4.9694, -5.0926, -5.1253, -4.0167, -4.0656, -4.2351, -4.3956, -4.489, -4.6693, -4.774, -4.7992, -4.8046, -4.8338, -4.9049, -4.9818, -5.0626, -5.1552, -5.1817, -5.203, -5.2056, -5.2494, -5.3207, -5.3255, -5.3602, -5.3622, -5.4835, -5.5047, -4.5531, -5.5203, -5.5222, -5.5249, -5.5783, -5.6203, -4.1975, -4.4148, -4.1626, -4.7363, -4.2116, -4.3838, -5.3424, -4.9683, -5.0711, -4.9946, -5.1202, -4.4749, -4.5688, -4.2832, -5.0063, -4.6669, -4.5376, -4.7637, -4.4555, -4.865, -4.5984, -4.683, -4.7659, -4.8616, -4.0637, -4.234, -4.2967, -4.5665, -4.7129, -4.7861, -4.8304, -4.8426, -4.8692, -4.8892, -4.9078, -4.9195, -4.9607, -4.9633, -4.9644, -4.9832, -4.9847, -5.0206, -5.0446, -5.0816, -5.0895, -5.1112, -5.1233, -5.2033, -5.2348, -5.2499, -5.2588, -5.3414, -5.4202, -5.4652, -3.8394, -5.05, -4.5965, -4.635, -4.3512, -4.7077, -4.3604, -3.9811, -4.9271, -4.7776, -4.6605, -4.2469, -4.6672, -4.864, -4.6601, -4.8266, -4.9314, -2.8396, -3.6023, -4.079, -4.371, -4.4015, -4.5306, -4.5431, -4.5738, -4.5878, -4.6344, -4.6584, -4.6613, -4.6672, -4.79, -4.7965, -4.9191, -3.6992, -4.9573, -5.0289, -5.0665, -5.1083, -5.131, -5.1462, -5.1609, -5.184, -5.2067, -5.2808, -5.29, -5.2915, -5.3082, -4.5384, -4.2209, -4.1128, -4.4361, -3.0807, -4.6231, -4.2241, -3.7652, -4.1325, -4.7946, -4.7001, -4.6069, -2.5831, -2.6699, -4.8186, -5.1456, -5.4979, -5.7432, -6.0574, -6.1696, -6.3874, -3.7142, -6.4843, -6.7747, -7.0442, -7.0859, -7.4385, -7.5082, -7.5097, -2.1521, -7.6623, -3.2897, -7.8675, -4.2551, -4.1196, -8.3001, -8.3453, -2.3152, -8.705, -1.7144, -4.4947, -3.4467, -2.025, -4.6233, -5.1756, -6.2689, -5.6775, -5.0529, -5.7961, -4.8391, -4.8001, -4.9414, -4.9516, -4.9517, -5.5151, -4.9242, -4.746, -5.3183, -5.2114, -5.6168, -5.6182, -0.3496, -3.6522, -4.3296, -4.3712, -4.399, -4.75, -4.9585, -5.0747, -5.1448, -5.3519, -5.3801, -5.3973, -5.6271, -5.674, -5.7692, -5.8926, -5.9245, -5.9316, -5.9775, -5.9827, -6.0197, -6.0231, -6.0263, -6.0497, -6.0605, -6.1492, -6.1774, -6.2231, -6.23, -6.2974, -3.2533, -3.662, -3.6989, -3.7631, -3.7734, -3.7786, -3.9151, -3.9182, -4.034, -4.2132, -4.3567, -4.3668, -4.4212, -4.4735, -4.5006, -4.629, -4.6612, -4.693, -4.7343, -4.7507, -4.7725, -4.7957, -4.8197, -4.9139, -4.9629, -4.9802, -4.993, -4.9971, -5.1105, -5.2113, -4.2694, -2.9589, -3.3181, -3.6059, -4.5192, -4.1813, -4.4213, -3.8371, -4.499, -4.5483, -4.5415, -4.7141, -2.4877, -2.5437, -2.9059, -3.0048, -3.6935, -3.9021, -3.9635, -4.2299, -4.4115, -4.5072, -4.5146, -4.5184, -4.6913, -4.7822, -4.792, -4.8603, -4.8923, -4.893, -4.9161, -4.9222, -4.9327, -4.9534, -5.1098, -5.1652, -5.2915, -5.3501, -5.3645, -5.3805, -5.3835, -5.4967, -4.0796, -4.5366, -4.4773, -3.1739, -4.3763, -3.7653, -4.2423, -4.6196, -4.5041, -4.5157, -4.6658, -4.8866, -2.5357, -3.46, -3.6489, -3.8392, -3.9199, -3.9642, -4.0535, -4.1273, -4.1529, -4.2493, -4.3274, -4.3712, -4.5243, -4.5605, -4.5664, -4.5734, -4.6098, -4.6415, -4.7216, -4.7629, -4.8164, -4.8325, -4.8335, -4.8449, -4.8739, -4.8914, -4.9211, -4.9262, -4.9702, -4.9723, -4.2741, -4.3049, -4.0571, -4.1088, -4.5763, -4.5576, -4.0334, -4.1657, -4.7922, -2.3884, -2.9083, -3.0081, -3.2259, -3.3138, -3.4005, -3.5423, -3.8107, -4.1072, -4.1249, -4.2029, -4.2175, -4.2422, -4.2577, -4.2748, -4.4553, -4.6129, -4.622, -4.672, -4.8039, -4.8449, -4.8897, -4.9746, -4.9817, -5.0086, -5.0585, -5.0962, -5.1787, -5.2507, -5.26, -4.1493, -3.8596, -3.4957, -3.8774, -4.5339, -4.1264, -4.5673, -2.9524, -3.4229, -3.4973, -3.6405, -3.7437, -3.997, -4.1169, -4.1236, -4.1431, -4.2583, -4.2978, -4.5236, -4.6125, -4.7115, -4.744, -4.7481, -4.7825, -4.7885, -4.8444, -4.8503, -4.8808, -4.9072, -4.9356, -4.9471, -5.0272, -5.0633, -5.1399, -5.2338, -5.368, -5.3836, -3.5514, -3.7073, -4.7682, -3.7997, -4.2871, -4.396, -4.1985, -4.5849, -4.6964, -4.4799, -1.9495, -3.2812, -3.4613, -3.4762, -3.7325, -3.8075, -3.8247, -3.9453, -4.3597, -4.4054, -4.4181, -4.5053, -4.5454, -4.6235, -4.7138, -4.7159, -4.8435, -4.8482, -5.0835, -5.0924, -5.1136, -5.123, -5.1804, -5.2697, -5.3659, -5.3925, -5.4313, -5.4695, -5.5017, -5.5929, -4.5386, -3.2951, -4.0053, -4.0724, -3.9237, -3.908, -3.8633, -4.7686, -4.6441, -4.5612, -5.0068, -2.3751, -3.5592, -3.703, -3.8378, -3.8486, -3.8667, -4.0113, -4.0424, -4.1401, -4.238, -4.3606, -4.3703, -4.3864, -4.4701, -4.4805, -4.5273, -4.536, -4.5815, -4.602, -4.7708, -4.7888, -4.8029, -4.818, -4.8856, -4.9807, -5.0113, -5.0303, -5.0775, -5.1144, -5.1208, -3.5731, -4.5826, -4.8657, -4.598, -4.5526, -4.7396, -4.7905, -2.7418, -2.9489, -3.037, -3.6843, -3.7027, -3.7342, -3.7955, -3.9561, -4.0229, -4.1219, -4.3431, -4.3765, -4.5654, -4.6182, -4.6411, -4.703, -4.716, -4.7162, -4.731, -4.8099, -4.8135, -4.8669, -4.9086, -5.0188, -5.0251, -5.0783, -5.0849, -5.0966, -5.1053, -5.1205, -4.3309, -3.9385, -4.3567, -4.918, -4.0431, -4.1306, -4.0677, -4.8079, -4.7111, -1.6527, -2.357, -2.5797, -2.8076, -3.4604, -3.5725, -3.7024, -3.7962, -3.8192, -4.0421, -4.1346, -4.209, -4.3273, -4.3388, -4.4361, -4.4751, -4.5231, -4.54, -4.6674, -4.7382, -4.7712, -4.8022, -4.9032, -4.9362, -5.0226, -5.1093, -5.2158, -5.3502, -5.4296, -5.4836, -4.2508, -5.0848, -1.5712, -2.6875, -2.7793, -3.1163, -3.4252, -3.5786, -4.3294, -4.3737, -4.4053, -4.4282, -4.444, -4.4631, -4.5681, -4.7024, -4.8187, -4.9947, -5.0382, -5.0704, -5.1101, -5.3546, -5.4132, -5.6681, -5.854, -6.1327, -6.2345, -6.9533, -7.2704, -7.3182, -4.8618, -5.2664, -3.808, -4.2765, -5.1802, -4.9681, -5.6248, -2.5717, -2.7847, -3.0708, -3.2018, -3.2528, -3.4732, -3.6407, -3.6648, -3.7712, -3.8289, -3.9318, -4.0578, -4.2502, -4.2989, -4.4201, -4.5804, -4.7852, -4.9463, -5.026, -5.2174, -5.2342, -5.289, -5.5104, -5.5695, -5.5778, -5.7009, -5.7312, -3.2059, -5.947, -5.9999, -3.878, -5.8518, -2.8641, -3.0116, -3.1503, -3.4497, -3.6414, -3.8505, -3.857, -3.9938, -4.0342, -4.2042, -4.5469, -4.598, -4.6714, -4.7047, -4.7169, -4.737, -4.7859, -4.8637, -4.8739, -4.9492, -4.978, -5.0224, -5.0556, -5.0958, -5.0991, -5.1694, -5.3453, -5.3551, -5.3975, -5.7711, -3.5749, -1.9371, -2.9532, -3.1409, -3.6832, -4.138, -4.1735, -4.2378, -4.2879, -4.2965, -4.4195, -4.5243, -4.6575, -4.8213, -4.8322, -4.9076, -4.9349, -5.1852, -5.4121, -5.739, -5.8954, -5.9722, -6.376, -6.4137, -6.5218, -6.5691, -6.6867, -3.929, -11.4476, -11.4476, -11.4476, -11.4476], \"loglift\": [30.0, 29.0, 28.0, 27.0, 26.0, 25.0, 24.0, 23.0, 22.0, 21.0, 20.0, 19.0, 18.0, 17.0, 16.0, 15.0, 14.0, 13.0, 12.0, 11.0, 10.0, 9.0, 8.0, 7.0, 6.0, 5.0, 4.0, 3.0, 2.0, 1.0, 1.4189, 1.4188, 1.4187, 1.4186, 1.4186, 1.4185, 1.4185, 1.4184, 1.4184, 1.4182, 1.4181, 1.4181, 1.4181, 1.4179, 1.4178, 1.4177, 1.4177, 1.4177, 1.4176, 1.4175, 1.4174, 1.4174, 1.4174, 1.4173, 1.4172, 1.417, 1.417, 1.4169, 1.4168, 1.4168, 1.4072, 1.413, 1.3667, 1.4058, 1.3996, 1.3929, 1.3662, 1.3997, 1.3527, 1.2956, 1.3619, 1.3654, 1.3024, 1.3446, 1.3637, 1.3592, 1.2298, 1.2658, 1.1345, 1.1576, 1.1926, 1.1895, 1.3244, 1.1484, 1.1981, 0.9406, 1.0801, 1.0389, 1.2585, 0.9622, 0.5556, 1.2237, 0.9002, 0.7302, 0.8553, 1.5458, 1.5458, 1.5457, 1.5457, 1.5456, 1.5455, 1.5455, 1.5454, 1.5454, 1.5454, 1.5454, 1.5453, 1.5452, 1.5451, 1.545, 1.545, 1.545, 1.545, 1.5449, 1.5449, 1.5449, 1.5449, 1.5448, 1.5448, 1.5448, 1.5448, 1.5448, 1.5446, 1.5446, 1.5445, 1.5276, 1.5341, 1.5304, 1.5166, 1.505, 1.3941, 1.4595, 1.2524, 1.2926, 1.4494, 0.9982, 1.2238, 1.3803, 1.1102, 1.3105, 0.4935, 1.0603, 0.7037, 0.1498, 0.5851, 0.6061, 2.0872, 2.0872, 2.0871, 2.087, 2.0869, 2.0868, 2.0867, 2.0867, 2.0867, 2.0867, 2.0866, 2.0865, 2.0864, 2.0863, 2.0863, 2.0862, 2.0862, 2.0862, 2.086, 2.086, 2.086, 2.086, 2.0858, 2.0857, 2.0857, 2.0857, 2.0857, 2.0857, 2.0856, 2.0855, 2.0618, 2.0574, 2.0495, 2.0504, 1.9965, 1.9853, 2.069, 2.0087, 2.0198, 2.0016, 2.0267, 1.5066, 1.4528, 1.0738, 1.8556, 1.3797, 1.1994, 1.504, 0.8746, 1.5887, 0.9675, 1.0605, 0.8121, 1.3062, 2.6751, 2.6749, 2.6748, 2.6745, 2.6743, 2.6742, 2.6741, 2.6741, 2.6741, 2.674, 2.674, 2.674, 2.6739, 2.6739, 2.6739, 2.6738, 2.6738, 2.6738, 2.6737, 2.6736, 2.6736, 2.6736, 2.6735, 2.6733, 2.6733, 2.6732, 2.6732, 2.673, 2.6727, 2.6726, 2.663, 2.6713, 2.6628, 2.6475, 2.6213, 2.6345, 2.5928, 2.3728, 2.6096, 2.5493, 2.2612, 1.7346, 2.0255, 2.3263, 1.8239, 2.1964, 2.1694, 2.7227, 2.7224, 2.7221, 2.7218, 2.7218, 2.7216, 2.7216, 2.7215, 2.7215, 2.7215, 2.7214, 2.7214, 2.7214, 2.7212, 2.7212, 2.721, 2.7209, 2.7209, 2.7207, 2.7206, 2.7205, 2.7205, 2.7204, 2.7204, 2.7204, 2.7203, 2.7201, 2.7201, 2.7201, 2.72, 2.6561, 2.6043, 2.5714, 2.6116, 2.2494, 2.5805, 2.468, 1.9749, 1.8584, 2.3888, 1.7962, 0.959, 2.7273, 2.7273, 2.7257, 2.7249, 2.7239, 2.7229, 2.7212, 2.7204, 2.7187, 2.7185, 2.7178, 2.7146, 2.7107, 2.71, 2.7026, 2.7009, 2.7008, 2.6993, 2.6965, 2.6964, 2.6896, 2.6879, 2.68, 2.6696, 2.667, 2.6451, 2.6419, 2.6296, 2.6193, 2.5922, 2.5648, 2.5229, 2.5377, 2.5751, 2.528, 2.4183, 2.4254, 2.237, 2.2184, 2.1412, 2.1421, 2.0985, 2.2994, 1.9382, 1.738, 2.0636, 1.5289, 1.9319, 1.9053, 3.0952, 3.0944, 3.0937, 3.0936, 3.0935, 3.0929, 3.0923, 3.092, 3.0917, 3.0909, 3.0908, 3.0907, 3.0896, 3.0893, 3.0887, 3.0879, 3.0876, 3.0876, 3.0872, 3.0872, 3.0869, 3.0869, 3.0868, 3.0866, 3.0865, 3.0857, 3.0855, 3.085, 3.0849, 3.0842, 3.4606, 3.4602, 3.4601, 3.46, 3.46, 3.46, 3.4598, 3.4598, 3.4596, 3.4593, 3.459, 3.4589, 3.4588, 3.4587, 3.4586, 3.4582, 3.4581, 3.458, 3.4579, 3.4578, 3.4577, 3.4576, 3.4575, 3.4572, 3.457, 3.4569, 3.4568, 3.4568, 3.4563, 3.4557, 3.4522, 3.4332, 3.4246, 3.3505, 3.4165, 3.3398, 3.3181, 3.045, 3.2294, 3.19, 2.8536, 2.725, 3.8652, 3.8651, 3.8649, 3.8648, 3.8639, 3.8634, 3.8633, 3.8626, 3.8619, 3.8615, 3.8615, 3.8615, 3.8607, 3.8602, 3.8602, 3.8598, 3.8596, 3.8596, 3.8594, 3.8594, 3.8593, 3.8592, 3.8581, 3.8577, 3.8566, 3.856, 3.8559, 3.8557, 3.8557, 3.8545, 3.555, 3.5497, 3.3811, 2.4145, 3.171, 2.2256, 2.652, 2.8856, 1.3222, 1.2983, 1.6801, 2.9487, 3.8908, 3.8899, 3.8896, 3.8892, 3.889, 3.8889, 3.8887, 3.8885, 3.8884, 3.8881, 3.8878, 3.8877, 3.887, 3.8869, 3.8869, 3.8868, 3.8867, 3.8865, 3.8861, 3.8859, 3.8856, 3.8855, 3.8855, 3.8854, 3.8852, 3.8851, 3.8849, 3.8849, 3.8846, 3.8846, 3.8704, 3.779, 3.7175, 3.6888, 3.7049, 3.6615, 3.252, 3.1457, 1.8198, 4.0545, 4.0541, 4.054, 4.0537, 4.0536, 4.0534, 4.0532, 4.0526, 4.0517, 4.0517, 4.0514, 4.0513, 4.0512, 4.0512, 4.0511, 4.0503, 4.0495, 4.0494, 4.0491, 4.0483, 4.048, 4.0477, 4.047, 4.047, 4.0468, 4.0463, 4.046, 4.0452, 4.0445, 4.0444, 4.0052, 3.9908, 3.9275, 3.3355, 3.5745, 3.017, 1.8597, 4.1611, 4.1604, 4.1603, 4.16, 4.1597, 4.1589, 4.1585, 4.1585, 4.1584, 4.1579, 4.1577, 4.1566, 4.1561, 4.1554, 4.1552, 4.1552, 4.1549, 4.1549, 4.1544, 4.1544, 4.1541, 4.1539, 4.1537, 4.1536, 4.1529, 4.1525, 4.1517, 4.1507, 4.149, 4.1488, 3.9982, 3.5958, 3.8275, 3.0824, 3.4576, 3.3465, 2.9693, 3.2029, 3.2028, 1.9704, 4.2784, 4.2771, 4.2767, 4.2767, 4.276, 4.2758, 4.2757, 4.2753, 4.2734, 4.2732, 4.2731, 4.2726, 4.2723, 4.2718, 4.2711, 4.2711, 4.2701, 4.27, 4.2677, 4.2676, 4.2673, 4.2672, 4.2665, 4.2654, 4.264, 4.2636, 4.263, 4.2624, 4.2619, 4.2603, 3.9508, 3.4011, 3.6531, 3.5996, 2.9387, 2.7841, 2.5869, 3.5436, 2.8679, 2.5851, 1.4744, 4.2824, 4.2807, 4.2803, 4.2799, 4.2799, 4.2798, 4.2793, 4.2792, 4.2788, 4.2783, 4.2777, 4.2776, 4.2775, 4.277, 4.277, 4.2767, 4.2766, 4.2763, 4.2762, 4.2749, 4.2748, 4.2746, 4.2745, 4.2739, 4.273, 4.2727, 4.2725, 4.2719, 4.2715, 4.2714, 3.6675, 3.7431, 3.8974, 3.345, 1.0357, 2.0856, 2.2596, 4.4037, 4.4034, 4.4033, 4.4017, 4.4017, 4.4016, 4.4014, 4.4008, 4.4005, 4.4, 4.3988, 4.3986, 4.3973, 4.3969, 4.3967, 4.3962, 4.396, 4.396, 4.3959, 4.3952, 4.3951, 4.3946, 4.3942, 4.3929, 4.3928, 4.3922, 4.3921, 4.392, 4.3918, 4.3916, 3.9947, 3.7421, 3.9223, 4.2739, 3.4027, 2.9196, 2.7322, 3.4287, 2.2367, 4.4331, 4.4326, 4.4324, 4.4321, 4.4309, 4.4306, 4.4302, 4.4298, 4.4298, 4.4288, 4.4284, 4.428, 4.4273, 4.4272, 4.4266, 4.4263, 4.4259, 4.4258, 4.4248, 4.4241, 4.4238, 4.4235, 4.4225, 4.4221, 4.4211, 4.42, 4.4185, 4.4163, 4.4149, 4.4139, 4.2354, 4.269, 4.9207, 4.9194, 4.9192, 4.9184, 4.9173, 4.9166, 4.9113, 4.9109, 4.9105, 4.9103, 4.9101, 4.9099, 4.9086, 4.9068, 4.905, 4.9019, 4.901, 4.9004, 4.8995, 4.8936, 4.8919, 4.8835, 4.8759, 4.8617, 4.8556, 4.7907, 4.746, 4.7382, 3.8657, 3.8524, 3.4022, 3.1864, 3.6166, 1.8316, 1.522, 5.3146, 5.314, 5.3129, 5.3123, 5.3121, 5.3108, 5.3096, 5.3095, 5.3086, 5.3081, 5.3071, 5.3057, 5.3033, 5.3026, 5.3007, 5.2979, 5.2935, 5.2895, 5.2872, 5.2809, 5.2803, 5.2783, 5.2689, 5.266, 5.2656, 5.259, 5.2573, 5.2542, 5.2434, 5.2395, 4.1483, 2.2222, 5.6943, 5.6935, 5.6926, 5.6902, 5.6883, 5.6857, 5.6856, 5.6836, 5.6829, 5.6799, 5.672, 5.6706, 5.6685, 5.6674, 5.667, 5.6664, 5.6648, 5.662, 5.6616, 5.6587, 5.6576, 5.6557, 5.6543, 5.6525, 5.6523, 5.649, 5.6395, 5.6389, 5.6364, 5.6091, 5.5822, 5.8484, 5.8442, 5.8429, 5.8372, 5.8295, 5.8287, 5.8272, 5.8261, 5.8258, 5.8226, 5.8196, 5.8152, 5.809, 5.8085, 5.8053, 5.8041, 5.7912, 5.7766, 5.7493, 5.7331, 5.7242, 5.6668, 5.6604, 5.6408, 5.6316, 5.6074, 4.5603, 2.3481, 2.3481, 2.3481, 2.348]}, \"token.table\": {\"Topic\": [19, 8, 13, 16, 2, 4, 3, 3, 13, 19, 15, 2, 13, 13, 1, 2, 3, 4, 5, 6, 4, 11, 18, 5, 15, 8, 14, 1, 3, 5, 17, 6, 12, 4, 12, 2, 8, 12, 12, 1, 2, 6, 13, 14, 6, 5, 8, 19, 2, 12, 13, 17, 19, 16, 17, 3, 16, 15, 3, 5, 6, 9, 7, 1, 16, 1, 11, 11, 8, 9, 20, 19, 8, 2, 8, 15, 1, 4, 10, 16, 7, 5, 4, 18, 8, 6, 2, 5, 13, 11, 19, 7, 2, 3, 11, 4, 6, 9, 4, 9, 20, 10, 11, 5, 10, 17, 1, 5, 10, 11, 10, 10, 14, 7, 10, 16, 1, 2, 8, 12, 14, 2, 3, 5, 2, 3, 5, 15, 1, 6, 12, 14, 15, 2, 18, 13, 4, 5, 6, 6, 8, 12, 5, 13, 5, 2, 2, 18, 12, 2, 2, 13, 11, 10, 3, 20, 18, 6, 17, 1, 2, 13, 14, 1, 5, 6, 13, 4, 5, 13, 19, 3, 5, 6, 10, 12, 12, 15, 14, 19, 10, 15, 15, 18, 6, 3, 19, 2, 3, 4, 5, 18, 7, 4, 6, 10, 18, 3, 3, 6, 17, 18, 2, 1, 4, 12, 11, 17, 8, 12, 8, 7, 13, 6, 6, 19, 16, 10, 10, 1, 8, 3, 5, 14, 12, 1, 2, 10, 13, 8, 12, 12, 5, 17, 6, 19, 2, 4, 4, 7, 5, 14, 5, 17, 2, 2, 4, 5, 5, 6, 10, 8, 2, 15, 11, 3, 14, 3, 20, 6, 12, 6, 9, 2, 3, 10, 9, 18, 18, 16, 16, 13, 2, 14, 5, 8, 15, 15, 15, 3, 11, 7, 19, 5, 7, 10, 3, 15, 9, 17, 3, 12, 18, 1, 2, 2, 17, 2, 2, 3, 10, 15, 16, 15, 2, 19, 13, 19, 17, 10, 2, 5, 15, 18, 2, 8, 16, 9, 3, 5, 9, 5, 6, 17, 5, 17, 4, 3, 2, 3, 9, 1, 2, 3, 16, 6, 8, 6, 1, 2, 3, 4, 9, 12, 14, 19, 13, 14, 11, 20, 15, 17, 2, 3, 2, 12, 4, 8, 3, 11, 14, 1, 16, 10, 14, 3, 9, 13, 10, 11, 16, 20, 12, 9, 1, 3, 11, 7, 12, 1, 2, 3, 1, 4, 8, 1, 2, 3, 2, 12, 13, 7, 2, 10, 2, 3, 1, 8, 1, 18, 1, 2, 12, 1, 2, 5, 7, 2, 4, 10, 12, 5, 15, 1, 10, 1, 3, 13, 4, 5, 15, 1, 9, 9, 9, 12, 7, 17, 6, 20, 2, 3, 5, 9, 8, 12, 16, 5, 17, 1, 3, 19, 19, 3, 4, 11, 4, 5, 4, 13, 20, 3, 3, 13, 12, 12, 3, 20, 18, 15, 5, 13, 7, 19, 1, 4, 11, 10, 12, 14, 3, 12, 12, 2, 3, 13, 2, 12, 20, 1, 2, 6, 7, 13, 3, 6, 8, 12, 19, 16, 1, 2, 3, 3, 6, 1, 2, 12, 4, 1, 9, 12, 14, 2, 2, 4, 9, 1, 2, 4, 5, 1, 2, 8, 12, 2, 8, 1, 10, 5, 1, 3, 6, 3, 1, 2, 19, 4, 19, 1, 3, 1, 9, 2, 4, 5, 6, 6, 4, 10, 14, 9, 1, 5, 17, 11, 1, 2, 3, 4, 8, 9, 12, 3, 11, 16, 1, 2, 3, 4, 14, 14, 6, 15, 12, 13, 18, 2, 1, 2, 5, 15, 15, 5, 3, 7, 10, 2, 12, 14, 8, 2, 15, 16, 5, 14, 17, 5, 3, 10, 11, 1, 18, 1, 14, 8, 8, 12, 8, 11, 17, 4, 19, 20, 1, 2, 5, 8, 12, 7, 8, 1, 3, 5, 2, 3, 6, 9, 3, 1, 2, 3, 4, 11, 13, 1, 3, 6, 10, 1, 6, 10, 4, 9, 9, 11, 13, 2, 3, 4, 8, 9, 3, 2, 15, 20, 12, 12, 9, 2, 11, 4, 10, 13, 1, 3, 11, 13, 1, 2, 6, 17, 3, 17, 17, 14, 19, 1, 6, 12, 3, 14, 10, 17, 3, 12, 13, 4, 8, 17, 9, 18, 20, 14, 15, 1, 7, 2, 12, 14, 16, 2, 6, 13, 12, 15, 1, 9, 4, 11, 9, 14, 14, 14, 9, 4, 11, 2, 3, 4, 9, 8, 18, 20, 5, 16, 1, 2, 3, 20, 4, 10, 6, 10, 1, 11, 16, 2, 13, 15, 1, 2, 3, 10, 1, 3, 5, 16, 12, 11, 5, 9, 3, 17, 3, 14, 4, 13, 2, 13, 2, 2, 3, 5, 13, 15, 11, 2, 13, 4, 2, 9, 18, 4, 11, 1, 2, 15, 2, 3, 11, 17, 18, 15, 14, 5, 8, 16, 20, 1, 2, 3, 8, 1, 2, 2, 7, 17, 2, 3, 18, 19, 11, 15, 4, 2, 3, 18, 13, 19, 2, 18, 1, 16, 16, 3, 6, 7, 12, 3, 8, 9, 15, 7, 3, 3, 6, 14, 15, 8, 2, 3, 4, 5, 15, 7, 5, 18, 10, 10, 1, 2, 16, 15, 2, 15, 10, 12, 19, 9, 14, 7, 10, 7, 2, 1, 3, 5, 9, 17, 1, 8, 10, 11, 9, 14, 16, 1, 2, 9, 2, 6, 15, 15, 9, 5, 10, 5, 1, 13, 3, 13, 13, 1, 2, 3, 8, 10, 3, 2, 18, 16, 17, 1, 3, 15, 19, 2, 3, 15, 7, 17, 14, 1, 10, 18, 20, 7, 2, 3, 4, 5, 9, 2, 4, 14, 12, 5, 4, 4, 3, 5, 14, 12, 5, 1, 1, 6, 9, 2, 10, 11, 3, 12, 12, 20, 14, 14, 8, 19, 8, 16, 5, 10, 9, 17, 9, 2, 5, 9, 14, 1, 3, 9, 2, 18, 16, 1, 2, 4, 20, 3, 6, 15, 19, 19, 3, 11, 2, 3, 5, 1, 2, 3, 7, 5, 16, 18, 5, 4, 6, 1, 2, 2, 11, 17, 7, 9, 5, 6, 13, 14, 20, 1, 2, 2, 12, 16, 16, 20, 3, 6, 13, 1, 2, 1, 2, 7, 1, 2, 3, 5, 16, 18, 5, 8, 1, 2, 5, 9, 14, 11, 1, 5, 7, 15, 18, 12, 2, 19, 8, 1, 2, 3, 20, 12, 12, 17, 2, 20, 4, 8, 3, 6, 11, 11, 13, 20, 1, 2, 3, 4, 5, 11, 3, 13, 17, 4, 1, 10, 14, 17, 3, 5, 11, 5, 12, 20, 7, 4, 14, 13, 18, 20, 1, 2, 3, 2, 12, 16, 15, 10, 1, 2, 3, 12, 8, 1, 15, 5, 1, 2, 20, 4, 10, 9, 17, 1, 10, 12, 8, 12, 1, 2, 3, 1, 3, 5, 12, 2, 12, 1, 1, 2, 6, 1, 2, 4, 9, 12, 14, 15, 9, 4, 8, 9, 14], \"Freq\": [0.9574385229642085, 0.9984700227486625, 0.98748806618769, 0.9928018155354258, 0.9988593951355937, 0.9979782537912416, 0.9990590350977594, 0.998327563788745, 0.9938790660248537, 0.9722389214090632, 0.9876861952808593, 0.9988652341034773, 0.9965496226703772, 0.9920499451487189, 0.3440988326394733, 0.23194930771582278, 0.36281754870075017, 0.001139400108077726, 0.05989989139608617, 0.9792292226831532, 0.9976941427186888, 0.9924426569918137, 0.9738534650620546, 0.3780014171414421, 0.6168983127748334, 0.9953070726428254, 0.9970802224165282, 0.9981364734191206, 0.7310774116508795, 0.04880772492555587, 0.2191155310487721, 0.9978077507252775, 0.9954584287896007, 0.9465081405294056, 0.052401834769794084, 0.9987787985999381, 0.9975826501361985, 0.9969652214120122, 0.9927304009866669, 0.0021893294802084596, 0.07673599828130652, 0.9209414458496886, 0.9893443912385017, 0.9909907924658599, 0.9680093464149734, 0.9960388079533844, 0.9985272714780303, 0.9550107641616113, 0.3099568504605381, 0.5674945276814265, 0.12193155514440288, 0.9842650917347695, 0.9578929320030396, 0.9925135622533231, 0.9553216797066644, 0.14173213697286444, 0.8503928218371866, 0.9932174772105048, 0.998157232445071, 0.001172922717326758, 0.9785311714970095, 0.9961477992214066, 0.9999747411765346, 0.9994834660741013, 0.9885403071613291, 0.9992403897076999, 0.9927841706187954, 0.9967258847027742, 0.9567374657055524, 0.04075787409956389, 0.8817450646920048, 0.9842728901815495, 0.9983010834446614, 0.9995550463117394, 0.9956899911524674, 0.9916756761441595, 0.9806536995192304, 0.018821282121811837, 0.998359096106244, 0.9951872162247282, 0.9969324002498808, 0.9994653697264281, 0.9978466189419339, 0.9429540972409448, 0.9946835393470238, 0.9953032740002667, 0.2438986183806313, 0.2471945456560452, 0.5075728004137462, 0.9977109538166088, 0.9657963810753021, 0.9980094190348283, 0.3923120080672266, 0.6072307603127507, 0.9858056244197945, 0.9974373910631121, 0.820452601334658, 0.17701545850713513, 0.9984575523794399, 0.992532024746638, 0.9655349940931487, 0.05909314527497809, 0.9376112383629857, 0.4167084965702066, 0.23203086740841047, 0.345678639200285, 0.7147618787404237, 0.0804963457686899, 0.126168031311209, 0.07878365756084543, 0.9957832380615481, 0.9945861888672579, 0.9945337415381299, 0.9972025849337147, 0.9993096093152487, 0.9989954243272703, 0.3373267759718214, 0.04622626189243479, 0.5447202752730154, 0.006246792147626323, 0.06496663833531376, 0.7761373120783056, 0.13721764633428607, 0.08642072918168979, 0.90777090619506, 0.01921558852529689, 0.0503580940662953, 0.021866014528786115, 0.1848548745290353, 0.5573374467050414, 0.07301767543896893, 0.0822604191654207, 0.10074590661832422, 0.9980270411260134, 0.9449267232416673, 0.9955264421852125, 0.9978672361896995, 0.48333271639078373, 0.5153904986003766, 0.9894929641805124, 0.9635720340520826, 0.035133619067395316, 0.77511183410908, 0.2245535481098133, 0.9966795738924954, 0.9988922553532306, 0.9982816464128016, 0.9920736434089219, 0.9956978118244588, 0.9995068615120399, 0.9991793825634476, 0.998155531641401, 0.9939325623149634, 0.9924125887492523, 0.9993699776292916, 0.996896496747675, 0.9711036426060377, 0.9533284242196579, 0.04546219364053282, 0.7974627220248001, 0.20245502472892007, 0.9954614894673222, 0.9980584594361036, 0.031784294188039644, 0.3033129788230069, 0.6120746937925349, 0.05176299339195028, 0.9598574891375284, 0.03910530511301042, 0.9892498134676243, 0.961559280646661, 0.0014138319647600006, 0.9981653671205604, 0.9966653502511678, 0.8931228923528592, 0.10448791498278577, 0.11301663561755595, 0.8739953154424327, 0.10186360618432065, 0.8876685681776514, 0.9924471440603034, 0.9945672133108375, 0.9832088697639577, 0.9928445045970395, 0.9916014483850074, 0.9985687511671846, 0.9503629747154331, 0.11969921897022029, 0.029278945647392012, 0.6191635858963194, 0.23078698333826644, 0.9974198986365441, 0.9985387321023851, 0.9974516988934725, 0.9737474527287646, 0.9934859506824123, 0.994643855537381, 0.9987129092596971, 0.17002802806950082, 0.827813227570701, 0.9857311924032761, 0.9538958656233923, 0.998632260509376, 0.9984256462716183, 0.9723212043242973, 0.02679185867254091, 0.9985073238741935, 0.9947951078145216, 0.9905554391661495, 0.006926961113049997, 0.995938573272443, 0.9951212123649311, 0.9912413168407364, 0.9888523416954509, 0.936118483813199, 0.9809342207191802, 0.9874863802664162, 0.9967752285386017, 0.9949901670302448, 0.999487415672252, 0.9952223898498994, 0.9971524692712084, 0.888216343465745, 0.11093871593008907, 0.9935762750768324, 0.8224011414139863, 0.17713799305606498, 0.9780397113230853, 0.018503453998004318, 0.8951655153323461, 0.1039391102411095, 0.9917153570025133, 0.720676880534181, 0.26898503287543374, 0.9917076032711064, 0.9677834742974508, 0.061897234197801056, 0.9356558657807136, 0.9984548684564007, 0.9884090063987264, 0.9354255076242679, 0.06338402346743674, 0.9979497961903907, 0.9874263360623677, 0.9984834270621923, 0.22090723622753872, 0.7044599422555613, 0.07329641017687921, 0.9978250840913985, 0.9806361698244667, 0.9975044164916325, 0.9961218596777881, 0.9987371241719342, 0.9979413072885589, 0.9978043805979102, 0.9983660627455667, 0.9878833869343229, 0.9986310872170735, 0.9952945988098185, 0.9610794899565498, 0.03815700208264218, 0.2651282065177014, 0.7334684515639405, 0.08654099472827335, 0.9130646800626198, 0.9970811285978552, 0.9953257071393488, 0.9340666057030773, 0.9941180121807387, 0.9994775200944479, 0.9992369056112691, 0.9965164628584334, 0.4581904986587134, 0.5406219668753511, 0.3154581744991952, 0.3167725835596086, 0.36672012785531444, 0.9911819471311822, 0.9944404781647226, 0.9635375634663599, 0.035359176640967334, 0.9964758694282829, 0.964513637655902, 0.9987280604307814, 0.9888320969478822, 0.9973770808650764, 0.9988719192655909, 0.993483378227886, 0.9873668773948633, 0.7928449080571777, 0.9991135620431695, 0.993033437194448, 0.993885230604498, 0.5690462066428776, 0.43077329661750546, 0.8222476981628655, 0.17648243277641992, 0.9996435456878345, 0.9172136536980882, 0.08220311047294186, 0.8303124469768373, 0.027273036579531153, 0.13939552029538144, 0.9884463447004761, 0.9990000942158473, 0.9529577830801639, 0.9950344316318888, 0.9624244420135387, 0.9892650633669258, 0.9965817724956082, 0.9993879881842948, 0.6202413724800465, 0.37678214216077593, 0.9912693097871542, 0.9990844364989518, 0.9964797463237951, 0.9981760253572426, 0.9977964422926395, 0.9985791982848705, 0.9991386299287738, 0.9967522255089866, 0.23593958259499723, 0.733435045323877, 0.029660976097656794, 0.9973743496876721, 0.9916481231912263, 0.9988613283407521, 0.999532714500005, 0.09928924306954437, 0.2839672351788969, 0.6155933070311751, 0.38927722787081626, 0.25225164366028896, 0.35813504964115095, 0.9897274753593347, 0.9839289651614913, 0.998160522031145, 0.9969539604656162, 0.533205972645318, 0.2100035236333683, 0.11267847054925462, 0.0234204673197065, 0.07858867922834849, 0.019777283514418823, 0.022119330246389474, 0.9794078714056305, 0.9825686587690213, 0.9967527857800679, 0.9944815391154962, 0.7822118898527622, 0.6512867909382207, 0.3431511049029335, 0.44182689970523326, 0.5579480720636599, 0.6957913559586542, 0.30359994787895495, 0.9954399500557674, 0.0017311999131404648, 0.9980560960125958, 0.986421419542522, 0.9891270355757295, 0.9990542509016147, 0.9901008321134567, 0.31404533456197364, 0.6820672110017865, 0.9982406995541477, 0.999489200098567, 0.9828283763186008, 0.9953892302747246, 0.997152460282182, 0.9888021107284313, 0.9690651540779727, 0.9903498691950657, 0.9932742315266461, 0.9490473707462385, 0.05082330182138326, 0.9879705515014122, 0.9974187080611803, 0.9936075566842014, 0.5330174893585549, 0.390532352327538, 0.07597629399826648, 0.9998817247629851, 0.9975648922388025, 0.9989168410283429, 0.9881908273280376, 0.008988825013840717, 0.0027546399235963493, 0.7037428785224972, 0.11170521881309478, 0.18407077360940402, 0.9994680458626509, 0.18124128459318165, 0.8165200140950555, 0.6150559034109898, 0.38427057651176044, 0.9983687529294836, 0.9994681313277403, 0.9977790716148535, 0.9628830349587334, 0.9421197845039846, 0.05403025490195457, 0.003147393489434247, 0.9870761110042148, 0.011930815201501388, 0.9984817700642945, 0.9941239060045806, 0.018671966971224096, 0.881083441454637, 0.08635784724191144, 0.012836977292716566, 0.9970670928450917, 0.9973201161689493, 0.9993329236304301, 0.9935553452589284, 0.5070207693501776, 0.4927476318892641, 0.9895102607466755, 0.7383610637920786, 0.2611169353434352, 0.9855753616653136, 0.49898135000037225, 0.49898135000037225, 0.9922338308956149, 0.9923121330522416, 0.9905782090408964, 0.9970217197910012, 0.9918635308442038, 0.9998515400835246, 0.9524739482031496, 0.7902070129601396, 0.134901384143974, 0.07434346352459881, 0.9937008970886532, 0.9978586162881079, 0.9917104014255069, 0.9916321938440751, 0.9985468769954808, 0.8702074229297171, 0.9987462010390071, 0.9987542282125791, 0.985780684303413, 0.9507020505552092, 0.9626622242246646, 0.03138699896080417, 0.005741524200147105, 0.987105610512743, 0.011997968746563727, 0.5158267233748962, 0.4783120525839947, 0.8985230328129902, 0.9994348807729443, 0.9746470572444961, 0.02487777585391468, 0.9915477427100767, 0.9907936570115736, 0.9979661137231155, 0.9826059089837733, 0.9900440339578649, 0.9969395548946558, 0.9976862949771724, 0.9875676388900393, 0.9940507260917464, 0.9592287559079969, 0.5019176080558497, 0.010413228382901447, 0.4873390883197877, 0.9974349368655534, 0.41190828874984803, 0.5830086548459387, 0.9993241758504998, 0.9930496650730508, 0.9984011837708322, 0.8473457366479726, 0.15199706003041702, 0.980683751445973, 0.5033503223826484, 0.4944885209322497, 0.966114073224653, 0.9981445212665363, 0.13302111372215208, 0.8566559723706595, 0.9928080070305835, 0.999389065850301, 0.10187195676934013, 0.8970391748855784, 0.6597803847726991, 0.3396148465836795, 0.9736001040827645, 0.9849501371430783, 0.8838243248126809, 0.109130747423517, 0.006848740321846232, 0.3458653512061375, 0.6518231618884899, 0.02895717305811529, 0.5853485696747591, 0.38264835826795207, 0.9993955825875582, 0.8803256868338947, 0.1124471677516456, 0.0065630642656602485, 0.9966774429305642, 0.9994261979273547, 0.2653709855663457, 0.6607037147971481, 0.07315211918837682, 0.14854823435684447, 0.2308687142295958, 0.5217756731784162, 0.09841320526140947, 0.9098127502347061, 0.08985247508521414, 0.8673137073286612, 0.13221245538546664, 0.9709110907060728, 0.02841396093598096, 0.47134447838269516, 0.5273236325849155, 0.9979015257368868, 0.056210378670421474, 0.037000732962864186, 0.906754383998881, 0.9995775167984864, 0.9479031276874716, 0.05148509373733983, 0.9676068135411235, 0.9981810072994947, 0.9729293036026845, 0.8578081147456021, 0.141774629982996, 0.7019292584767782, 0.2968244545015071, 0.18537570923241387, 0.4265148431932775, 0.015573569068305773, 0.37175616485633134, 0.910101836255589, 0.9203894888212621, 0.07870695454143428, 0.9894302695452657, 0.9895194672103316, 0.9996927834745538, 0.9988381666504782, 0.9728129072379414, 0.9994707260979651, 0.6197156690934309, 0.34895567342710426, 0.029487530392232213, 0.0015519752838016954, 0.9723861584345072, 0.008248327451376592, 0.019246097386545383, 0.198863574829674, 0.6195365215847537, 0.17846731074457925, 0.12166774426868776, 0.7453385797272865, 0.11523814802684654, 0.017557743583489493, 0.9953919267899012, 0.9950978056060913, 0.9303473901313056, 0.9944014890163375, 0.9864886928522737, 0.9969724799159516, 0.9270399534368581, 0.9985704822952238, 0.9994496224118941, 0.9878851045468731, 0.011656461410582573, 0.9946739863139329, 0.9888110548927892, 0.9986842680318586, 0.9992954447077546, 0.9951871784350572, 0.9973671108073439, 0.46443359011071256, 0.3830189368642131, 0.15172730832302164, 0.9941187914747837, 0.998831568973236, 0.17485081006615866, 0.8221708303110865, 0.9974046457237399, 0.9959466372745858, 0.995649431182298, 0.9982307857381314, 0.363106860506043, 0.4745668778132777, 0.16087012807229753, 0.9988919344993641, 0.9963965879544068, 0.9985724379453211, 0.9959109324746932, 0.9982810289215154, 0.9939574244644662, 0.9902516458599613, 0.9977520660690872, 0.9969429244711019, 0.9971331927967714, 0.9978027534284184, 0.9564425820310108, 0.9624369367102802, 0.9358584992535082, 0.05881938940313856, 0.0052517311967088, 0.5552863751162487, 0.4421069865575228, 0.9926543089874589, 0.9983155266291913, 0.5022488210480701, 0.3261408079169976, 0.171294126667353, 0.0051437007977290245, 0.31290846519518234, 0.6009557098680077, 0.07972736236479988, 0.9990201817048445, 0.4422499403734238, 0.0004760494514245681, 0.41130672603082685, 0.10258865678199443, 0.018327903879845873, 0.024754571474077544, 0.19013095699390867, 0.2522891544726865, 0.5566815038908192, 0.9959502507995522, 0.9984008821688656, 0.9998399418817943, 0.9916105165146247, 0.9976182881568886, 0.993488121998227, 0.9984481082492531, 0.9930435765735469, 0.9960154127875752, 0.035558581967442944, 0.5592118873512395, 0.3902326431298867, 0.008205826607871449, 0.006382309583900016, 0.9971605652706207, 0.3326802337929102, 0.6621920844068403, 0.9762782534585563, 0.9907160938857152, 0.994875901859659, 0.9946671295625058, 0.11821231752781519, 0.8801677989842761, 0.9983417981415793, 0.9955117582335281, 0.9837438012511003, 0.8550164120579368, 0.03321373409770009, 0.11150325018513604, 0.9779302608908879, 0.12008436564843515, 0.5777031644708501, 0.3018336758190397, 0.9755892356051318, 0.997918294774143, 0.9632903230870284, 0.9683968252902989, 0.9963356800052157, 0.9679166600801216, 0.027684124666190822, 0.9721839949265522, 0.9951195037273178, 0.9984442031975231, 0.9913084164708348, 0.9957224640804861, 0.9984887590788186, 0.9817125566515051, 0.016510042996726478, 0.9923538291890952, 0.9970156828649451, 0.9961407666431774, 0.8887920370904542, 0.9950533682390403, 0.9539708942795254, 0.9911971513829362, 0.9932378014297392, 0.9983518232952296, 0.9986872508047133, 0.998485860916097, 0.9816615575932949, 0.01820485056877722, 0.9954051378633348, 0.9977999054213811, 0.9990713679962526, 0.815366475987514, 0.184115010706858, 0.9983575025279315, 0.9923832993348127, 0.6235099949811421, 0.37522189854569854, 0.9979158406937861, 0.9989390429668827, 0.9959791531656708, 0.9946269313415681, 0.9961568264674647, 0.9850004486493328, 0.9991214915368635, 0.9987739730669019, 0.9892623290394582, 0.8590502359520866, 0.06194826656626358, 0.002056373993900866, 0.07685697802204486, 0.9974163491536051, 0.9693300894366044, 0.974300077189087, 0.9975782760289492, 0.981812094994061, 0.22146545004824472, 0.24835768326838872, 0.5299351840440142, 0.9423851615279065, 0.9869559990972152, 0.01227939034646613, 0.973349414777978, 0.9943720748274473, 0.9983532293653128, 0.9985979858478529, 0.9976849018366981, 0.4633000312998387, 0.5348270536759542, 0.9883481126400362, 0.9462812882658441, 0.011965622190927427, 0.041381110076957356, 0.9921934861082096, 0.46960944073219163, 0.05682107112062105, 0.47319060067676855, 0.996235642030345, 0.9934213367538534, 0.9970530458506994, 0.998496696277165, 0.995422418456153, 0.9995943644087212, 0.9888295632894376, 0.6050628997519075, 0.39112994591105454, 0.9980790580669343, 0.9953289593134772, 0.7541546365228519, 0.24436295485097995, 0.9991025235930016, 0.43030205287949896, 0.42879925176350536, 0.07964845914766046, 0.06061297834507494, 0.991721820075002, 0.9918911523479625, 0.5838015068218251, 0.41549277453595845, 0.9977164644500827, 0.8720562858920256, 0.07882994674730175, 0.04434184504535723, 0.045388724485633934, 0.9504932892285695, 0.9742189756654696, 0.02505707241937936, 0.9854879408486916, 0.7243870791883614, 0.27530614060797565, 0.9938406117444061, 0.9835034624218856, 0.9614778098776486, 0.9879377505508212, 0.9937294554620263, 0.7157682025184673, 0.2830721704875295, 0.9770076358285372, 0.8070101557146808, 0.9992444093366117, 0.5419372746933315, 0.4577172928153138, 0.9975125097547717, 0.9939503569952018, 0.005745377786099432, 0.9997487956227441, 0.9926021411262613, 0.974950264114055, 0.20597799810238265, 0.7931252453621994, 0.9870210453275771, 0.9625639568760584, 0.9975825462482724, 0.9919531033435018, 0.9979298888033714, 0.06451984551150942, 0.9346160478381508, 0.9581097422034741, 0.9944138750179833, 0.9942321201955787, 0.9989124092533532, 0.9354945094845886, 0.9991598415478086, 0.9972611072581411, 0.9877139020676843, 0.017098279956860894, 0.9694114082684524, 0.001526632139005437, 0.01160240425644132, 0.6269747696461051, 0.16328903341332626, 0.021358481163768414, 0.18740344763048417, 0.990600209055293, 0.9977846100556914, 0.10707220406405996, 0.5327063375749098, 0.13184924302103251, 0.22653292760660618, 0.9970380399522264, 0.3019377308516259, 0.21806613894839647, 0.3322912593499375, 0.032749859695546724, 0.11422512040154101, 0.9963267179108161, 0.9982713190487289, 0.9877818041705619, 0.9978355297084129, 0.9940632930219571, 0.35297938019312125, 0.6466643059962996, 0.9920237000425719, 0.9932099036393269, 0.48206748988658843, 0.5153135236718703, 0.8399829291570943, 0.15704028675545675, 0.9409004173051082, 0.9917660698704793, 0.9927138022510125, 0.9945099418735058, 0.9969783813486424, 0.9936212934255679, 0.9990641868445028, 0.07332675831674543, 0.3040452614723628, 0.42124535217109405, 0.19390172073716783, 0.007056549963536171, 0.9997780151801746, 0.762500605425654, 0.23597016426567585, 0.998457515007039, 0.9936322068578158, 0.9973308629466201, 0.9948728847339301, 0.4216899864948252, 0.5781752061875173, 0.9956217023973022, 0.558276752923916, 0.43895042405468204, 0.9987210829894313, 0.9957345962537755, 0.997066784884064, 0.9985880503828808, 0.9948230575212275, 0.9975936149141281, 0.9983052488677973, 0.9970636213872531, 0.9982422729355596, 0.996757055368562, 0.9986752672933824, 0.7699265112224203, 0.20406727995662738, 0.02572813788020126, 0.7932566610059529, 0.20572370549165372, 0.9994384421201429, 0.9991109072556841, 0.9845104166635102, 0.9916652032613439, 0.9975275567736257, 0.06874802957180914, 0.917199321360478, 0.012575859068013867, 0.9938260195895566, 0.0967244093295659, 0.9027611537426151, 0.9859044603990648, 0.9893202352104016, 0.9862391853821212, 0.9916312280309828, 0.9974046439911004, 0.057982746796943437, 0.9385957137755219, 0.9220638020167891, 0.9867729752673047, 0.040027160736827196, 0.02513333348591475, 0.6022691394587719, 0.3155629648787074, 0.015824691454094472, 0.9984308559825918, 0.9979630620725933, 0.9926108486037629, 0.9876949501723447, 0.9978778301922663, 0.9987737223777811, 0.9983235617308454, 0.13991343257662348, 0.8591175684529512, 0.9919943863949587, 0.9973127086329377, 0.9990052478476308, 0.9989778696722897, 0.5463231311459307, 0.45162712174730274, 0.9951240184735808, 0.5672914061669974, 0.07771115152972566, 0.3545571288543733, 0.9700317266420825, 0.02928959665910075, 0.9849273869242555, 0.9432979197576324, 0.9991259999061826, 0.9940410487931374, 0.9985021050344018, 0.98867918492924, 0.9959909219745223, 0.9940499982539598, 0.8675749253603411, 0.13204469732000435, 0.9963721275955449, 0.9924515525990651, 0.9878888630351504, 0.10416549643957945, 0.8942343041804575, 0.7282069276566125, 0.26684294951800525, 0.9446708962263868, 0.054822627550787914, 0.9947165221158036, 0.9994706974741615, 0.9940559128613615, 0.9904479055570348, 0.9281830575700536, 0.07134269775832569, 0.9966667481369996, 0.9835717687851099, 0.2569435703767274, 0.7394264969730266, 0.9985877717155729, 0.9954892043491953, 0.9784961424635203, 0.9981614064089472, 0.9923872684124231, 0.27157035246374517, 0.3320888392487371, 0.3956586783086025, 0.8515795453127355, 0.09138369639739059, 0.056432163113926466, 0.990146276505153, 0.6787507491198407, 0.00939447403626077, 0.3100176431966054, 0.9996678546374708, 0.9977195377353367, 0.978987886665301, 0.7948466278452828, 0.20486598124516212, 0.9990574873091308, 0.998371939465601, 0.9849803155489952, 0.9951251106942957, 0.9992956311053952, 0.22735458621212004, 0.45397577053323324, 0.26182447508944146, 0.056471945607526594, 0.9774778403337896, 0.8016663076697488, 0.19799661824993797, 0.2780856724812994, 0.7138915771161716, 0.9990037310307767, 0.9839300300248812, 0.7633744860989456, 0.12618399027289534, 0.8736309938791784, 0.992152016483563, 0.7125809088046072, 0.2871626502447266, 0.7523464674312336, 0.24753135522340944, 0.9910180370276739, 0.8276322785666782, 0.09924336685860696, 0.06827701951307512, 0.004682715940056036, 0.9764319829766543, 0.9842903852980492, 0.9974321313495227, 0.9972487514814333, 0.18625618685259954, 0.2289398963396536, 0.12611095984811427, 0.3996747342878698, 0.05820505839143735, 0.9913448650192046, 0.9975506202760863, 0.9959505117640822, 0.9930523049147717, 0.9971828898063704, 0.9972464104770263, 0.9937726674798596, 0.999294114195685, 0.995626684743212, 0.9991316414670287, 0.7628627775807161, 0.11830000917015018, 0.11852971792582039, 0.9741659736137264, 0.9958134562700832, 0.9973471516486592, 0.9470517153337895, 0.9987839067412382, 0.981736378194688, 0.998305461776272, 0.9975478535415839, 0.008113566086871712, 0.9912868683783851, 0.9944062356173601, 0.9962693495024713, 0.7202441128694985, 0.2761557738463362, 0.004911862964309843, 0.07399483884944183, 0.29724693293694404, 0.0009506831543825503, 0.6228559133129675, 0.9937859087823611, 0.9405825922263799, 0.0243674246690772, 0.03313969754994499, 0.9977216632739156, 0.9994218080022367, 0.7946279497239064, 0.20221714849604785, 0.9595556873623817, 0.924396486418032, 0.07483992906053462, 0.9951167871084903, 0.9982769151002792, 0.9968703910294516, 0.8614371074084102, 0.9965139774588514, 0.996896481326409, 0.98776394771291, 0.9917300691131243, 0.9872909598208089, 0.8380072828546121, 0.9485545460578556, 0.020783403726070456, 0.030343769440062864, 0.15018715011982883, 0.8486303045605862, 0.996505515079216, 0.9956606242222386, 0.9968577858496789, 0.5952962832380747, 0.3824341231804511, 0.018617027697347473, 0.0035888246163561397, 0.9969093174182083, 0.9805231978464207, 0.01799843060691754, 0.9976880675098011, 0.8899210081744496, 0.10983202316077069, 0.9556597925141483, 0.9983191564798658, 0.9936679716835757, 0.9987184731866953, 0.9995123066026164, 0.997226361839509, 0.9978167593041093, 0.9973256212695663, 0.8857062503342957, 0.11337040004278985, 0.9985146712590875, 0.9597900206910939, 0.03972042975019576, 0.6332553331847627, 0.2793713813601261, 0.08040048475189676, 0.006903071923142652, 0.9843583658330295, 0.014646373701173408, 0.9980245897942969, 0.0364261185352919, 0.11366158148771581, 0.8498168110567581, 0.6837178892914904, 0.006974619932766478, 0.02482144152543364, 0.23426517538880345, 0.007384891693517448, 0.0387706813909666, 0.003692445846758724, 0.9925409709182066, 0.372088562028109, 0.47914562198005617, 0.14752985090939058, 0.9948240888247613], \"Term\": [\"abstract\", \"accept\", \"access_digex\", \"acquire\", \"act\", \"addition\", \"address\", \"advance\", \"advanced\", \"affiliate\", \"aged\", \"agree\", \"air\", \"algorithm\", \"also\", \"also\", \"also\", \"also\", \"also\", \"amanda_walker\", \"amount\", \"amp\", \"amplifier\", \"analysis\", \"analysis\", \"animal\", \"announcement\", \"anyway\", \"application\", \"application\", \"application\", \"appreciate\", \"arab\", \"area\", \"area\", \"argument\", \"arm\", \"armenian\", \"army\", \"article\", \"article\", \"article\", \"assure\", \"astronomy\", \"atf\", \"atheism\", \"atheist\", \"atom\", \"attack\", \"attack\", \"attack\", \"au\", \"australian\", \"auto\", \"automate\", \"automatic\", \"automatic\", \"automatically\", \"available\", \"available\", \"ave\", \"average\", \"ax\", \"back\", \"backup\", \"bad\", \"band\", \"baseball\", \"bear\", \"bear\", \"bearing\", \"beautiful\", \"belief\", \"believe\", \"benefit\", \"bias\", \"big\", \"big\", \"bike\", \"bill\", \"birth\", \"bit\", \"black\", \"black_hole\", \"blank\", \"blind\", \"block\", \"block\", \"block\", \"board\", \"bogus\", \"bomb\", \"book\", \"book\", \"bounce\", \"box\", \"boy\", \"boy\", \"brain\", \"brave\", \"brick\", \"bus\", \"bus\", \"button\", \"button\", \"button\", \"buy\", \"buy\", \"buy\", \"buy\", \"cable\", \"cambridge\", \"camp\", \"capture\", \"car\", \"card\", \"carry\", \"carry\", \"carry\", \"carry\", \"carry\", \"case\", \"case\", \"case\", \"cause\", \"cause\", \"cause\", \"cause\", \"center\", \"center\", \"center\", \"center\", \"center\", \"certainly\", \"chamber\", \"channel\", \"character\", \"cheap\", \"cheap\", \"chief\", \"child\", \"child\", \"chip\", \"chip\", \"choice\", \"christian\", \"church\", \"circuit\", \"civilian\", \"claim\", \"clear\", \"clipper\", \"clock\", \"co\", \"code\", \"color\", \"colt\", \"com\", \"com\", \"come\", \"come\", \"communication\", \"community\", \"company\", \"company\", \"company\", \"company\", \"compare\", \"compare\", \"compression\", \"comprise\", \"computer\", \"computer\", \"computer_science\", \"concept\", \"concept\", \"conduct\", \"conduct\", \"conference\", \"conference\", \"connector\", \"consequence\", \"conservative\", \"constitution\", \"consult\", \"contain\", \"contemporary\", \"control\", \"control\", \"control\", \"control\", \"controller\", \"convert\", \"convince\", \"convincing\", \"cool\", \"cop\", \"copy\", \"corporation\", \"corporation\", \"correction\", \"cosmic\", \"country\", \"couple\", \"cover\", \"cover\", \"cpu\", \"crash\", \"crime\", \"crime\", \"criminal\", \"criticism\", \"crypto\", \"cs_dept\", \"cubic\", \"custom\", \"customer\", \"cycle\", \"cylinder\", \"d\", \"dangerous\", \"date\", \"datum\", \"datum\", \"daughter\", \"day\", \"day\", \"dealer\", \"dealer\", \"death\", \"death\", \"decent\", \"default\", \"default\", \"definitely\", \"delaware\", \"department\", \"department\", \"dept\", \"desert\", \"design\", \"design\", \"device\", \"diagnostic\", \"die\", \"difference\", \"difference\", \"difference\", \"digital\", \"digital_equipment\", \"direct\", \"disagree\", \"discussion\", \"disease\", \"disk\", \"display\", \"distant\", \"distribution\", \"distribution_usa\", \"distribution_world\", \"distribution_world\", \"division\", \"division\", \"do\", \"do\", \"dog\", \"door\", \"dram\", \"dream\", \"drive\", \"driver\", \"dual\", \"earth\", \"earth\", \"effect\", \"effect\", \"effect\", \"electrical\", \"element\", \"email\", \"email\", \"enable\", \"enclose\", \"encryption\", \"enemy\", \"engine\", \"entry\", \"environmental\", \"era\", \"eric_bosco\", \"error\", \"escape\", \"ethnic\", \"even\", \"even\", \"event\", \"event\", \"evidence\", \"exist\", \"exist\", \"expensive\", \"expensive\", \"expensive\", \"experiment\", \"explain\", \"explode\", \"export\", \"extended\", \"extension\", \"external\", \"fact\", \"factor\", \"factor\", \"factory\", \"faith\", \"false\", \"family\", \"fan\", \"faq\", \"fast\", \"father\", \"fax\", \"fax\", \"fax\", \"feature\", \"fi\", \"field\", \"file\", \"final\", \"final\", \"final\", \"find\", \"find\", \"find\", \"finger\", \"finland\", \"fire\", \"firearm\", \"first\", \"first\", \"first\", \"first\", \"first\", \"first\", \"first\", \"fish\", \"flag\", \"flight\", \"floppy\", \"floppy_burn\", \"focus\", \"focus\", \"follow\", \"follow\", \"force\", \"force\", \"forget\", \"forget\", \"format\", \"forsale\", \"french\", \"friend\", \"ftp_site\", \"fuel\", \"fuel\", \"function\", \"game\", \"garage\", \"gas\", \"gateway\", \"gear\", \"generic\", \"genocide\", \"german\", \"get\", \"get\", \"giant\", \"gif\", \"girl\", \"give\", \"give\", \"give\", \"go\", \"goal\", \"god\", \"good\", \"good\", \"good\", \"government\", \"government\", \"government\", \"graphic\", \"ground\", \"ground\", \"group\", \"group\", \"guess\", \"gun\", \"guy\", \"handy\", \"happen\", \"happen\", \"happen\", \"hard\", \"hard\", \"hardware\", \"hatred\", \"head\", \"head\", \"head\", \"head\", \"headache\", \"health\", \"hear\", \"heat\", \"help\", \"help\", \"hence\", \"high\", \"high\", \"hire\", \"hit\", \"hit\", \"hitler\", \"hitter\", \"holocaust\", \"homosexual\", \"honor\", \"host\", \"host_slc\", \"however\", \"however\", \"however\", \"hr\", \"human\", \"human_being\", \"icon\", \"ide\", \"ie\", \"ill\", \"image\", \"implementation\", \"inability\", \"include\", \"include\", \"include\", \"increase\", \"increase\", \"industry\", \"industry\", \"infinity\", \"info\", \"information\", \"information\", \"informed\", \"inhabitant\", \"input\", \"ins_cwru\", \"insert\", \"insist\", \"instal\", \"instrument\", \"intention\", \"interactive\", \"interested\", \"interested\", \"interested\", \"internal\", \"international\", \"international\", \"internet\", \"invasion\", \"israeli\", \"issue\", \"issue\", \"jet_propulsion\", \"jewish\", \"jewish\", \"jim_frost\", \"job\", \"joke\", \"joke\", \"joy\", \"key\", \"keyword\", \"keyword\", \"kill\", \"kill\", \"kinda\", \"km\", \"know\", \"know\", \"know\", \"lab\", \"lab\", \"land\", \"land\", \"land\", \"large\", \"last\", \"last\", \"last\", \"launch\", \"law\", \"lead\", \"lead\", \"lead\", \"less\", \"less\", \"less\", \"less\", \"let\", \"let\", \"lie\", \"lie\", \"life\", \"life\", \"light\", \"light\", \"limit\", \"line\", \"line\", \"line\", \"list\", \"little\", \"little\", \"loaded\", \"local\", \"login\", \"look\", \"look\", \"lose\", \"lose\", \"lot\", \"lot\", \"lot\", \"lot\", \"louisiana_tech\", \"low\", \"low\", \"lunar\", \"luxury\", \"m\", \"machine\", \"macintosh\", \"mail\", \"make\", \"make\", \"make\", \"make\", \"man\", \"man\", \"man\", \"manual\", \"manual\", \"manual\", \"many\", \"many\", \"many\", \"many\", \"map\", \"mar\", \"mario\", \"mass\", \"massacre\", \"master\", \"mathew\", \"matter\", \"maybe\", \"mean\", \"mean\", \"medical\", \"medicine\", \"memory\", \"message\", \"met\", \"mile\", \"military\", \"military\", \"military\", \"militia\", \"mind\", \"minor\", \"minor\", \"miss\", \"mission\", \"mit\", \"mode\", \"model\", \"model\", \"model\", \"money\", \"monitor\", \"month\", \"moon\", \"moral\", \"morality\", \"moslem\", \"mother\", \"motherboard\", \"motif\", \"mount\", \"mozumder\", \"ms_do\", \"much\", \"much\", \"much\", \"murder\", \"murder\", \"mystery\", \"nature\", \"need\", \"need\", \"need\", \"net\", \"net\", \"net\", \"net\", \"network\", \"new\", \"new\", \"new\", \"new\", \"new\", \"new\", \"news\", \"news\", \"news\", \"nhl\", \"nice\", \"nntp_poste\", \"noise\", \"normal\", \"north\", \"notice\", \"ns\", \"nuclear\", \"number\", \"number\", \"number\", \"number\", \"number\", \"object\", \"objective\", \"objective\", \"observer\", \"occupation\", \"occupy\", \"offense\", \"offer\", \"offer\", \"office\", \"oil\", \"okay\", \"old\", \"old\", \"old\", \"online_communication\", \"opinion\", \"opinion\", \"opinion\", \"opinions_expressed\", \"option\", \"oracle\", \"oracle_corporation\", \"orbit\", \"organisation\", \"organization\", \"organization\", \"origin\", \"originator\", \"ozone\", \"pack\", \"package\", \"page\", \"page\", \"panel\", \"paper\", \"parent\", \"parity\", \"park\", \"partly\", \"past\", \"pat\", \"patient\", \"pay\", \"peace\", \"people\", \"people\", \"percent\", \"period\", \"person\", \"phone\", \"phone\", \"physical\", \"physician\", \"pick\", \"pick\", \"picture\", \"pin\", \"pitch\", \"plane\", \"planet\", \"planetary\", \"play\", \"player\", \"please_respond\", \"point\", \"point\", \"point\", \"point\", \"police\", \"political_atheist\", \"porsche\", \"port\", \"positively\", \"post\", \"post\", \"post\", \"pov\", \"power\", \"power\", \"powerbook\", \"predict\", \"pretty\", \"price\", \"printer\", \"private\", \"private\", \"probability\", \"probably\", \"probably\", \"probably\", \"probe\", \"problem\", \"problem\", \"problem\", \"procedure\", \"proceed\", \"processor\", \"product\", \"production\", \"program\", \"programmer\", \"project\", \"project\", \"proof\", \"proposal\", \"protect\", \"protect\", \"prove\", \"provide\", \"provide\", \"provide\", \"provide\", \"pt\", \"pub\", \"public\", \"public\", \"publish\", \"pull\", \"pull\", \"pull\", \"purchase\", \"purchase\", \"put\", \"put\", \"qualified\", \"question\", \"question\", \"quick\", \"quit\", \"radar\", \"radiation\", \"radius\", \"rate\", \"rate\", \"ratio\", \"rayshade\", \"re\", \"read\", \"read\", \"reality\", \"really\", \"really\", \"reason\", \"rebel\", \"reboot\", \"receive\", \"receive\", \"receiver\", \"recognition\", \"recommend\", \"recover\", \"reduce\", \"reference\", \"reference\", \"refresh\", \"register\", \"registration\", \"religion\", \"reload\", \"remember\", \"replace\", \"replacement\", \"reply\", \"reply\", \"reply\", \"reply\", \"report\", \"report\", \"report\", \"report\", \"reproduce\", \"request\", \"research\", \"research\", \"research\", \"research\", \"respect\", \"result\", \"result\", \"result\", \"result\", \"result\", \"resurrection\", \"review\", \"revolver\", \"ride\", \"rider\", \"right\", \"right\", \"ring\", \"rise\", \"risk\", \"risk\", \"road\", \"road\", \"robotic\", \"rock\", \"rocket\", \"roman\", \"route\", \"row\", \"rule\", \"run\", \"run\", \"run\", \"run\", \"run\", \"s\", \"safety\", \"safety\", \"sale\", \"san_jose\", \"satellite\", \"saturn\", \"say\", \"say\", \"sc\", \"school\", \"school\", \"science\", \"scientific\", \"score\", \"screen\", \"screw\", \"scsi\", \"season\", \"secret\", \"section\", \"secure\", \"security\", \"see\", \"see\", \"see\", \"self\", \"self\", \"send\", \"sense\", \"sensor\", \"serial\", \"server\", \"service\", \"service\", \"service\", \"session\", \"set\", \"set\", \"severe\", \"shareware\", \"sharp\", \"shuttle\", \"sign\", \"signal\", \"signal\", \"signing\", \"silver\", \"single\", \"single\", \"single\", \"single\", \"single\", \"situation\", \"size\", \"sky\", \"slaughter\", \"slow\", \"small\", \"society\", \"software\", \"software\", \"solar\", \"soldier\", \"solution\", \"soon\", \"sorry\", \"sorry\", \"soul\", \"sound\", \"sound\", \"sound\", \"source\", \"source\", \"soviet\", \"soviet_union\", \"space\", \"spacecraft\", \"speak\", \"speaker\", \"specifically\", \"specify\", \"speed\", \"speed\", \"sport\", \"stable\", \"staff\", \"standard\", \"standard\", \"star\", \"star\", \"start\", \"start\", \"stat\", \"state\", \"step\", \"stereo\", \"still\", \"still\", \"straight\", \"stream\", \"student\", \"student\", \"study\", \"stupid\", \"summarize\", \"sun\", \"super\", \"support\", \"support\", \"support\", \"sure\", \"sure\", \"sure\", \"suspension\", \"switch\", \"switch\", \"switch\", \"system\", \"table\", \"tail\", \"take\", \"take\", \"talk\", \"tape\", \"tar\", \"teaching\", \"team\", \"technology\", \"technology\", \"technology\", \"technology\", \"television\", \"tell\", \"tell\", \"terrorism\", \"terrorism\", \"test\", \"testing\", \"tga\", \"thank\", \"thank\", \"thermal\", \"thing\", \"thing\", \"think\", \"think\", \"throat\", \"time\", \"time\", \"time\", \"time\", \"timing\", \"tip\", \"tool\", \"topic\", \"total\", \"total\", \"total\", \"total\", \"total\", \"trace\", \"trade\", \"transfer\", \"translate\", \"treatment\", \"trial\", \"troop\", \"true\", \"trust\", \"truth\", \"try\", \"try\", \"try\", \"turbo\", \"turk\", \"turkish\", \"turning\", \"understand\", \"unique\", \"unit\", \"universe\", \"university\", \"university\", \"up\", \"upgrade\", \"usa\", \"usa\", \"use\", \"use\", \"use\", \"use\", \"use\", \"usenet\", \"user\", \"user\", \"user\", \"various\", \"ve\", \"vehicle\", \"vehicle\", \"verification\", \"version\", \"version\", \"version_pl\", \"video\", \"village\", \"viola\", \"violence\", \"visit\", \"vol\", \"volt\", \"voltage\", \"volvos\", \"want\", \"want\", \"want\", \"war\", \"war\", \"warranty\", \"waste\", \"wave\", \"way\", \"way\", \"way\", \"way\", \"weapon\", \"week\", \"week\", \"weight\", \"well\", \"well\", \"western_digital\", \"white\", \"widget\", \"win\", \"window\", \"wing\", \"wire\", \"withdraw\", \"woman\", \"woman\", \"wonder\", \"word\", \"word\", \"work\", \"work\", \"work\", \"work\", \"world\", \"world\", \"worth\", \"write\", \"write\", \"write\", \"year\", \"year\", \"year\", \"year\", \"year\", \"year\", \"year\", \"yesterday\", \"young\", \"young\", \"young\", \"zone\"]}, \"R\": 30, \"lambda.step\": 0.01, \"plot.opts\": {\"xlab\": \"PC1\", \"ylab\": \"PC2\"}, \"topic.order\": [7, 2, 18, 13, 6, 12, 1, 20, 11, 8, 4, 19, 16, 14, 10, 17, 5, 9, 3, 15]};\n",
       "\n",
       "function LDAvis_load_lib(url, callback){\n",
       "  var s = document.createElement('script');\n",
       "  s.src = url;\n",
       "  s.async = true;\n",
       "  s.onreadystatechange = s.onload = callback;\n",
       "  s.onerror = function(){console.warn(\"failed to load library \" + url);};\n",
       "  document.getElementsByTagName(\"head\")[0].appendChild(s);\n",
       "}\n",
       "\n",
       "if(typeof(LDAvis) !== \"undefined\"){\n",
       "   // already loaded: just create the visualization\n",
       "   !function(LDAvis){\n",
       "       new LDAvis(\"#\" + \"ldavis_el531261405245740555525184178298\", ldavis_el531261405245740555525184178298_data);\n",
       "   }(LDAvis);\n",
       "}else if(typeof define === \"function\" && define.amd){\n",
       "   // require.js is available: use it to load d3/LDAvis\n",
       "   require.config({paths: {d3: \"https://d3js.org/d3.v5\"}});\n",
       "   require([\"d3\"], function(d3){\n",
       "      window.d3 = d3;\n",
       "      LDAvis_load_lib(\"https://cdn.jsdelivr.net/gh/bmabey/pyLDAvis@3.3.1/pyLDAvis/js/ldavis.v3.0.0.js\", function(){\n",
       "        new LDAvis(\"#\" + \"ldavis_el531261405245740555525184178298\", ldavis_el531261405245740555525184178298_data);\n",
       "      });\n",
       "    });\n",
       "}else{\n",
       "    // require.js not available: dynamically load d3 & LDAvis\n",
       "    LDAvis_load_lib(\"https://d3js.org/d3.v5.js\", function(){\n",
       "         LDAvis_load_lib(\"https://cdn.jsdelivr.net/gh/bmabey/pyLDAvis@3.3.1/pyLDAvis/js/ldavis.v3.0.0.js\", function(){\n",
       "                 new LDAvis(\"#\" + \"ldavis_el531261405245740555525184178298\", ldavis_el531261405245740555525184178298_data);\n",
       "            })\n",
       "         });\n",
       "}\n",
       "</script>"
      ],
      "text/plain": [
       "PreparedData(topic_coordinates=              x         y  topics  cluster       Freq\n",
       "topic                                                \n",
       "6     -0.326620 -0.134129       1        1  24.194722\n",
       "1     -0.333221 -0.125185       2        1  21.307316\n",
       "17    -0.285770 -0.060427       3        1  12.398089\n",
       "12    -0.134126  0.078472       4        1   6.884649\n",
       "5     -0.163761  0.054251       5        1   6.567962\n",
       "11    -0.089428  0.385791       6        1   6.538353\n",
       "0      0.061980  0.063418       7        1   4.526611\n",
       "19     0.015074  0.118117       8        1   3.138701\n",
       "10     0.007003 -0.035344       9        1   2.094777\n",
       "7      0.057254 -0.007333      10        1   2.041673\n",
       "3      0.065142 -0.025800      11        1   1.733331\n",
       "18     0.038376 -0.020889      12        1   1.557127\n",
       "15     0.067940 -0.000248      13        1   1.385761\n",
       "13     0.067935 -0.009731      14        1   1.379852\n",
       "9      0.098343  0.002408      15        1   1.221716\n",
       "16     0.116849 -0.026355      16        1   1.187289\n",
       "4      0.161400 -0.048272      17        1   0.728903\n",
       "8      0.178899 -0.065618      18        1   0.490623\n",
       "2      0.196704 -0.071209      19        1   0.334779\n",
       "14     0.200026 -0.071917      20        1   0.287766, topic_info=               Term          Freq         Total Category  logprob  loglift\n",
       "4435             ax  41584.000000  41584.000000  Default  30.0000  30.0000\n",
       "18             line  16918.000000  16918.000000  Default  29.0000  29.0000\n",
       "207           write  13232.000000  13232.000000  Default  28.0000  28.0000\n",
       "143    organization  10186.000000  10186.000000  Default  27.0000  27.0000\n",
       "45          article   9135.000000   9135.000000  Default  26.0000  26.0000\n",
       "...             ...           ...           ...      ...      ...      ...\n",
       "1937            usa     73.728908    267.964703  Topic20  -3.9290   4.5603\n",
       "5309           vram      0.040029      1.329120  Topic20 -11.4476   2.3481\n",
       "14611    vram_simms      0.040028      1.329106  Topic20 -11.4476   2.3481\n",
       "14337      protocol      0.040028      1.329133  Topic20 -11.4476   2.3481\n",
       "7126        encrypt      0.040028      1.329182  Topic20 -11.4476   2.3480\n",
       "\n",
       "[846 rows x 6 columns], token_table=      Topic      Freq          Term\n",
       "term                               \n",
       "3348     19  0.957439      abstract\n",
       "1391      8  0.998470        accept\n",
       "3181     13  0.987488  access_digex\n",
       "1472     16  0.992802       acquire\n",
       "1554      2  0.998859           act\n",
       "...     ...       ...           ...\n",
       "812       9  0.992541     yesterday\n",
       "628       4  0.372089         young\n",
       "628       8  0.479146         young\n",
       "628       9  0.147530         young\n",
       "2247     14  0.994824          zone\n",
       "\n",
       "[1117 rows x 3 columns], R=30, lambda_step=0.01, plot_opts={'xlab': 'PC1', 'ylab': 'PC2'}, topic_order=[7, 2, 18, 13, 6, 12, 1, 20, 11, 8, 4, 19, 16, 14, 10, 17, 5, 9, 3, 15])"
      ]
     },
     "execution_count": 17,
     "metadata": {},
     "output_type": "execute_result"
    }
   ],
   "source": [
    "# Visualize the topics\n",
    "pyLDAvis.enable_notebook()\n",
    "vis = pyLDAvis.gensim_models.prepare(lda_model, corpus, id2word)\n",
    "vis"
   ]
  },
  {
   "cell_type": "code",
   "execution_count": null,
   "id": "447d8861",
   "metadata": {},
   "outputs": [],
   "source": []
  }
 ],
 "metadata": {
  "kernelspec": {
   "display_name": "Python 3 (ipykernel)",
   "language": "python",
   "name": "python3"
  },
  "language_info": {
   "codemirror_mode": {
    "name": "ipython",
    "version": 3
   },
   "file_extension": ".py",
   "mimetype": "text/x-python",
   "name": "python",
   "nbconvert_exporter": "python",
   "pygments_lexer": "ipython3",
   "version": "3.9.7"
  }
 },
 "nbformat": 4,
 "nbformat_minor": 5
}
